{
 "cells": [
  {
   "cell_type": "markdown",
   "id": "ac093898",
   "metadata": {},
   "source": [
    "# Insider Trading Monitor - Testing and Validation\n",
    "\n",
    "This notebook tests the `InsiderTradingMonitor` class with real SEC EDGAR data to validate:\n",
    "- Data retrieval functionality\n",
    "- Pattern analysis capabilities\n",
    "- Alert generation\n",
    "- Export functionality\n",
    "- Performance with different data volumes\n",
    "\n",
    "**Created**: June 8, 2025  \n",
    "**Phase**: 1 - Core Development  \n",
    "**Status**: Testing Required Before Dashboard Development"
   ]
  },
  {
   "cell_type": "markdown",
   "id": "ea0932b6",
   "metadata": {},
   "source": [
    "## Setup and Imports"
   ]
  },
  {
   "cell_type": "code",
   "execution_count": 51,
   "id": "ba38d96e",
   "metadata": {},
   "outputs": [
    {
     "name": "stdout",
     "output_type": "stream",
     "text": [
      "✅ All imports successful\n",
      "📅 Test Date: 2025-06-08 23:14:40\n"
     ]
    }
   ],
   "source": [
    "# Install required packages if not already installed\n",
    "# !pip install edgartools pandas numpy matplotlib seaborn plotly\n",
    "\n",
    "import sys\n",
    "import os\n",
    "sys.path.append('../classes')\n",
    "\n",
    "from insider_trading_monitor import InsiderTradingMonitor, InsiderTransaction, InsiderAlert\n",
    "import pandas as pd\n",
    "import numpy as np\n",
    "import matplotlib.pyplot as plt\n",
    "import seaborn as sns\n",
    "import plotly.express as px\n",
    "import plotly.graph_objects as go\n",
    "from datetime import datetime, timedelta\n",
    "import warnings\n",
    "warnings.filterwarnings('ignore')\n",
    "\n",
    "# Set display options\n",
    "pd.set_option('display.max_columns', None)\n",
    "pd.set_option('display.max_rows', 20)\n",
    "plt.style.use('seaborn-v0_8')\n",
    "\n",
    "print(\"✅ All imports successful\")\n",
    "print(f\"📅 Test Date: {datetime.now().strftime('%Y-%m-%d %H:%M:%S')}\")"
   ]
  },
  {
   "cell_type": "markdown",
   "id": "b466a073",
   "metadata": {},
   "source": [
    "## Test Configuration"
   ]
  },
  {
   "cell_type": "code",
   "execution_count": 58,
   "id": "b42487c3",
   "metadata": {},
   "outputs": [
    {
     "name": "stdout",
     "output_type": "stream",
     "text": [
      "🧪 Test Configuration:\n",
      "   Email: test.dashboard@edgartools.com\n",
      "   Companies: ['AAPL', 'MSFT', 'GOOGL', 'AMZN', 'TSLA']\n",
      "   Days Back: 30\n"
     ]
    }
   ],
   "source": [
    "# Test Configuration\n",
    "TEST_EMAIL = \"test.dashboard@edgartools.com\"  # Replace with your email\n",
    "TEST_COMPANIES = [\"AAPL\", \"MSFT\", \"GOOGL\", \"AMZN\", \"TSLA\"]  # High-activity companies\n",
    "TEST_DAYS_BACK = 30\n",
    "\n",
    "print(f\"🧪 Test Configuration:\")\n",
    "print(f\"   Email: {TEST_EMAIL}\")\n",
    "print(f\"   Companies: {TEST_COMPANIES}\")\n",
    "print(f\"   Days Back: {TEST_DAYS_BACK}\")"
   ]
  },
  {
   "cell_type": "markdown",
   "id": "cb2d0a99",
   "metadata": {},
   "source": [
    "## Test 1: Class Initialization and Basic Functionality"
   ]
  },
  {
   "cell_type": "code",
   "execution_count": 59,
   "id": "9be68aa8",
   "metadata": {},
   "outputs": [
    {
     "name": "stdout",
     "output_type": "stream",
     "text": [
      "=== Test 1: Class Initialization ===\n",
      "✅ InsiderTradingMonitor initialized successfully\n",
      "   📊 Monitored companies: ['AAPL', 'MSFT', 'GOOGL', 'AMZN', 'TSLA']\n",
      "   ⚙️ Cache enabled: True\n",
      "   🚨 Default alert thresholds: {'large_transaction': 1000000, 'unusual_volume': 0.05, 'multiple_transactions': 3, 'c_suite_threshold': 100000}\n",
      "   ➕ Added NVDA: ['AAPL', 'MSFT', 'GOOGL', 'AMZN', 'TSLA', 'NVDA']\n",
      "   ➖ Removed NVDA: ['AAPL', 'MSFT', 'GOOGL', 'AMZN', 'TSLA']\n",
      "   🎯 Updated large_transaction threshold: 50000\n",
      "\n",
      "✅ Test 1 PASSED: Basic functionality works correctly\n"
     ]
    }
   ],
   "source": [
    "print(\"=== Test 1: Class Initialization ===\")\n",
    "\n",
    "try:\n",
    "    # Initialize the monitor\n",
    "    monitor = InsiderTradingMonitor(\n",
    "        user_agent=TEST_EMAIL,\n",
    "        companies=TEST_COMPANIES,\n",
    "        cache_data=True\n",
    "    )\n",
    "    print(\"✅ InsiderTradingMonitor initialized successfully\")\n",
    "    \n",
    "    # Test basic properties\n",
    "    print(f\"   📊 Monitored companies: {monitor.companies}\")\n",
    "    print(f\"   ⚙️ Cache enabled: {monitor.cache_data}\")\n",
    "    print(f\"   🚨 Default alert thresholds: {monitor.alert_thresholds}\")\n",
    "    \n",
    "    # Test adding/removing companies\n",
    "    monitor.add_company(\"NVDA\")\n",
    "    print(f\"   ➕ Added NVDA: {monitor.companies}\")\n",
    "    \n",
    "    monitor.remove_company(\"NVDA\")\n",
    "    print(f\"   ➖ Removed NVDA: {monitor.companies}\")\n",
    "    \n",
    "    # Test setting thresholds\n",
    "    monitor.set_alert_threshold('large_transaction', 50000)\n",
    "    print(f\"   🎯 Updated large_transaction threshold: {monitor.alert_thresholds['large_transaction']}\")\n",
    "    \n",
    "    print(\"\\n✅ Test 1 PASSED: Basic functionality works correctly\")\n",
    "    \n",
    "except Exception as e:\n",
    "    print(f\"❌ Test 1 FAILED: {str(e)}\")\n",
    "    raise"
   ]
  },
  {
   "cell_type": "markdown",
   "id": "fe7396f0",
   "metadata": {},
   "source": [
    "## Test 2: Data Retrieval from SEC EDGAR"
   ]
  },
  {
   "cell_type": "code",
   "execution_count": 60,
   "id": "dcfffa44",
   "metadata": {},
   "outputs": [
    {
     "name": "stdout",
     "output_type": "stream",
     "text": [
      "=== Test 2: Data Retrieval ===\n",
      "🔍 Testing single company data retrieval (AAPL)...\n",
      "   ⏱️ Retrieval time: 1.45 seconds\n",
      "   📊 Records found: 1\n",
      "   📅 Date range: 2025-05-12 to 2025-05-12\n",
      "   👥 Unique insiders: 1\n",
      "   💰 Total transaction value: $933,955.14\n",
      "\n",
      "📋 Sample data:\n",
      "   ⏱️ Retrieval time: 1.45 seconds\n",
      "   📊 Records found: 1\n",
      "   📅 Date range: 2025-05-12 to 2025-05-12\n",
      "   👥 Unique insiders: 1\n",
      "   💰 Total transaction value: $933,955.14\n",
      "\n",
      "📋 Sample data:\n"
     ]
    },
    {
     "data": {
      "application/vnd.microsoft.datawrangler.viewer.v0+json": {
       "columns": [
        {
         "name": "index",
         "rawType": "int64",
         "type": "integer"
        },
        {
         "name": "company_ticker",
         "rawType": "object",
         "type": "string"
        },
        {
         "name": "company_name",
         "rawType": "object",
         "type": "string"
        },
        {
         "name": "filing_date",
         "rawType": "object",
         "type": "string"
        },
        {
         "name": "transaction_date",
         "rawType": "datetime64[ns]",
         "type": "datetime"
        },
        {
         "name": "insider_name",
         "rawType": "object",
         "type": "string"
        },
        {
         "name": "insider_title",
         "rawType": "object",
         "type": "string"
        },
        {
         "name": "transaction_code",
         "rawType": "object",
         "type": "string"
        },
        {
         "name": "security_title",
         "rawType": "object",
         "type": "string"
        },
        {
         "name": "shares",
         "rawType": "float64",
         "type": "float"
        },
        {
         "name": "price_per_share",
         "rawType": "float64",
         "type": "float"
        },
        {
         "name": "transaction_value",
         "rawType": "float64",
         "type": "float"
        },
        {
         "name": "ownership_type",
         "rawType": "object",
         "type": "string"
        },
        {
         "name": "shares_owned_after",
         "rawType": "float64",
         "type": "float"
        },
        {
         "name": "filing_url",
         "rawType": "object",
         "type": "string"
        }
       ],
       "ref": "ac966529-dd2f-42ce-a4bf-053532922e37",
       "rows": [
        [
         "0",
         "AAPL",
         "Apple Inc.",
         "2025-05-12",
         "2025-05-12 00:00:00",
         "Chris Kondo",
         "Principal Accounting Officer",
         "S",
         "Open Market Sale",
         "4486.0",
         "208.1933",
         "933955.1438",
         "Direct",
         "15533.0",
         "https://www.sec.gov/Archives/edgar/data/0000320193/"
        ]
       ],
       "shape": {
        "columns": 14,
        "rows": 1
       }
      },
      "text/html": [
       "<div>\n",
       "<style scoped>\n",
       "    .dataframe tbody tr th:only-of-type {\n",
       "        vertical-align: middle;\n",
       "    }\n",
       "\n",
       "    .dataframe tbody tr th {\n",
       "        vertical-align: top;\n",
       "    }\n",
       "\n",
       "    .dataframe thead th {\n",
       "        text-align: right;\n",
       "    }\n",
       "</style>\n",
       "<table border=\"1\" class=\"dataframe\">\n",
       "  <thead>\n",
       "    <tr style=\"text-align: right;\">\n",
       "      <th></th>\n",
       "      <th>company_ticker</th>\n",
       "      <th>company_name</th>\n",
       "      <th>filing_date</th>\n",
       "      <th>transaction_date</th>\n",
       "      <th>insider_name</th>\n",
       "      <th>insider_title</th>\n",
       "      <th>transaction_code</th>\n",
       "      <th>security_title</th>\n",
       "      <th>shares</th>\n",
       "      <th>price_per_share</th>\n",
       "      <th>transaction_value</th>\n",
       "      <th>ownership_type</th>\n",
       "      <th>shares_owned_after</th>\n",
       "      <th>filing_url</th>\n",
       "    </tr>\n",
       "  </thead>\n",
       "  <tbody>\n",
       "    <tr>\n",
       "      <th>0</th>\n",
       "      <td>AAPL</td>\n",
       "      <td>Apple Inc.</td>\n",
       "      <td>2025-05-12</td>\n",
       "      <td>2025-05-12</td>\n",
       "      <td>Chris Kondo</td>\n",
       "      <td>Principal Accounting Officer</td>\n",
       "      <td>S</td>\n",
       "      <td>Open Market Sale</td>\n",
       "      <td>4486.0</td>\n",
       "      <td>208.1933</td>\n",
       "      <td>933955.1438</td>\n",
       "      <td>Direct</td>\n",
       "      <td>15533.0</td>\n",
       "      <td>https://www.sec.gov/Archives/edgar/data/000032...</td>\n",
       "    </tr>\n",
       "  </tbody>\n",
       "</table>\n",
       "</div>"
      ],
      "text/plain": [
       "  company_ticker company_name filing_date transaction_date insider_name  \\\n",
       "0           AAPL   Apple Inc.  2025-05-12       2025-05-12  Chris Kondo   \n",
       "\n",
       "                  insider_title transaction_code    security_title  shares  \\\n",
       "0  Principal Accounting Officer                S  Open Market Sale  4486.0   \n",
       "\n",
       "   price_per_share  transaction_value ownership_type  shares_owned_after  \\\n",
       "0         208.1933        933955.1438         Direct             15533.0   \n",
       "\n",
       "                                          filing_url  \n",
       "0  https://www.sec.gov/Archives/edgar/data/000032...  "
      ]
     },
     "metadata": {},
     "output_type": "display_data"
    },
    {
     "name": "stdout",
     "output_type": "stream",
     "text": [
      "✅ All expected columns present\n",
      "\n",
      "✅ Test 2 PASSED: Data retrieval working correctly\n"
     ]
    }
   ],
   "source": [
    "print(\"=== Test 2: Data Retrieval ===\")\n",
    "\n",
    "try:\n",
    "    # Test single company data retrieval\n",
    "    print(\"🔍 Testing single company data retrieval (AAPL)...\")\n",
    "    \n",
    "    start_time = datetime.now()\n",
    "    aapl_data = monitor.get_insider_filings(ticker=\"AAPL\", days_back=TEST_DAYS_BACK)\n",
    "    retrieval_time = (datetime.now() - start_time).total_seconds()\n",
    "    \n",
    "    print(f\"   ⏱️ Retrieval time: {retrieval_time:.2f} seconds\")\n",
    "    print(f\"   📊 Records found: {len(aapl_data)}\")\n",
    "    \n",
    "    if not aapl_data.empty:\n",
    "        print(f\"   📅 Date range: {aapl_data['filing_date'].min()} to {aapl_data['filing_date'].max()}\")\n",
    "        print(f\"   👥 Unique insiders: {aapl_data['insider_name'].nunique()}\")\n",
    "        print(f\"   💰 Total transaction value: ${aapl_data['transaction_value'].sum():,.2f}\")\n",
    "        \n",
    "        # Display sample data\n",
    "        print(\"\\n📋 Sample data:\")\n",
    "        display(aapl_data.head())\n",
    "        \n",
    "        # Test data types and structure\n",
    "        expected_columns = ['company_ticker', 'company_name', 'filing_date', 'transaction_date',\n",
    "                          'insider_name', 'insider_title', 'transaction_code', 'security_title',\n",
    "                          'shares', 'price_per_share', 'transaction_value', 'ownership_type',\n",
    "                          'shares_owned_after', 'filing_url']\n",
    "        \n",
    "        missing_columns = set(expected_columns) - set(aapl_data.columns)\n",
    "        if missing_columns:\n",
    "            print(f\"⚠️ Missing columns: {missing_columns}\")\n",
    "        else:\n",
    "            print(\"✅ All expected columns present\")\n",
    "    else:\n",
    "        print(\"⚠️ No data found - this might be expected if no recent insider activity\")\n",
    "    \n",
    "    print(\"\\n✅ Test 2 PASSED: Data retrieval working correctly\")\n",
    "    \n",
    "except Exception as e:\n",
    "    print(f\"❌ Test 2 FAILED: {str(e)}\")\n",
    "    import traceback\n",
    "    traceback.print_exc()"
   ]
  },
  {
   "cell_type": "code",
   "execution_count": 61,
   "id": "de3f4280",
   "metadata": {},
   "outputs": [
    {
     "name": "stdout",
     "output_type": "stream",
     "text": [
      "=== Test 3: Multiple Companies Data Retrieval ===\n",
      "🔍 Testing multiple companies data retrieval: ['AAPL', 'MSFT', 'GOOGL']...\n",
      "   ⏱️ Retrieval time: 9.47 seconds\n",
      "   📊 Total records: 165\n",
      "   🏢 Companies with data: 5\n",
      "   👥 Total unique insiders: 27\n",
      "   💰 Total transaction value: $289,430,175.40\n",
      "\n",
      "📊 Company breakdown:\n",
      "   ⏱️ Retrieval time: 9.47 seconds\n",
      "   📊 Total records: 165\n",
      "   🏢 Companies with data: 5\n",
      "   👥 Total unique insiders: 27\n",
      "   💰 Total transaction value: $289,430,175.40\n",
      "\n",
      "📊 Company breakdown:\n"
     ]
    },
    {
     "data": {
      "application/vnd.microsoft.datawrangler.viewer.v0+json": {
       "columns": [
        {
         "name": "company_ticker",
         "rawType": "object",
         "type": "string"
        },
        {
         "name": "transaction_count",
         "rawType": "int64",
         "type": "integer"
        },
        {
         "name": "transaction_value",
         "rawType": "float64",
         "type": "float"
        }
       ],
       "ref": "34ce455d-e233-4018-a0a6-fd8928886e05",
       "rows": [
        [
         "TSLA",
         "59",
         "228705162.993"
        ],
        [
         "MSFT",
         "10",
         "25437698.734021"
        ],
        [
         "AMZN",
         "66",
         "19584500.4049"
        ],
        [
         "GOOGL",
         "29",
         "14768858.1241"
        ],
        [
         "AAPL",
         "1",
         "933955.1438"
        ]
       ],
       "shape": {
        "columns": 2,
        "rows": 5
       }
      },
      "text/html": [
       "<div>\n",
       "<style scoped>\n",
       "    .dataframe tbody tr th:only-of-type {\n",
       "        vertical-align: middle;\n",
       "    }\n",
       "\n",
       "    .dataframe tbody tr th {\n",
       "        vertical-align: top;\n",
       "    }\n",
       "\n",
       "    .dataframe thead th {\n",
       "        text-align: right;\n",
       "    }\n",
       "</style>\n",
       "<table border=\"1\" class=\"dataframe\">\n",
       "  <thead>\n",
       "    <tr style=\"text-align: right;\">\n",
       "      <th></th>\n",
       "      <th>transaction_count</th>\n",
       "      <th>transaction_value</th>\n",
       "    </tr>\n",
       "    <tr>\n",
       "      <th>company_ticker</th>\n",
       "      <th></th>\n",
       "      <th></th>\n",
       "    </tr>\n",
       "  </thead>\n",
       "  <tbody>\n",
       "    <tr>\n",
       "      <th>TSLA</th>\n",
       "      <td>59</td>\n",
       "      <td>2.287052e+08</td>\n",
       "    </tr>\n",
       "    <tr>\n",
       "      <th>MSFT</th>\n",
       "      <td>10</td>\n",
       "      <td>2.543770e+07</td>\n",
       "    </tr>\n",
       "    <tr>\n",
       "      <th>AMZN</th>\n",
       "      <td>66</td>\n",
       "      <td>1.958450e+07</td>\n",
       "    </tr>\n",
       "    <tr>\n",
       "      <th>GOOGL</th>\n",
       "      <td>29</td>\n",
       "      <td>1.476886e+07</td>\n",
       "    </tr>\n",
       "    <tr>\n",
       "      <th>AAPL</th>\n",
       "      <td>1</td>\n",
       "      <td>9.339551e+05</td>\n",
       "    </tr>\n",
       "  </tbody>\n",
       "</table>\n",
       "</div>"
      ],
      "text/plain": [
       "                transaction_count  transaction_value\n",
       "company_ticker                                      \n",
       "TSLA                           59       2.287052e+08\n",
       "MSFT                           10       2.543770e+07\n",
       "AMZN                           66       1.958450e+07\n",
       "GOOGL                          29       1.476886e+07\n",
       "AAPL                            1       9.339551e+05"
      ]
     },
     "metadata": {},
     "output_type": "display_data"
    },
    {
     "name": "stdout",
     "output_type": "stream",
     "text": [
      "\n",
      "📈 Transaction types:\n"
     ]
    },
    {
     "data": {
      "application/vnd.microsoft.datawrangler.viewer.v0+json": {
       "columns": [
        {
         "name": "transaction_code",
         "rawType": "object",
         "type": "string"
        },
        {
         "name": "count",
         "rawType": "int64",
         "type": "integer"
        }
       ],
       "ref": "42ca9cda-d747-40c5-95db-afa48e5cc668",
       "rows": [
        [
         "S",
         "92"
        ],
        [
         "M",
         "54"
        ],
        [
         "F",
         "6"
        ],
        [
         "G",
         "6"
        ],
        [
         "C",
         "5"
        ],
        [
         "J",
         "1"
        ],
        [
         "Unknown",
         "1"
        ]
       ],
       "shape": {
        "columns": 1,
        "rows": 7
       }
      },
      "text/plain": [
       "transaction_code\n",
       "S          92\n",
       "M          54\n",
       "F           6\n",
       "G           6\n",
       "C           5\n",
       "J           1\n",
       "Unknown     1\n",
       "Name: count, dtype: int64"
      ]
     },
     "metadata": {},
     "output_type": "display_data"
    },
    {
     "name": "stdout",
     "output_type": "stream",
     "text": [
      "\n",
      "✅ Test 3 PASSED: Multiple companies data retrieval working\n"
     ]
    }
   ],
   "source": [
    "print(\"=== Test 3: Multiple Companies Data Retrieval ===\")\n",
    "\n",
    "try:\n",
    "    # Test multiple companies data retrieval\n",
    "    print(f\"🔍 Testing multiple companies data retrieval: {TEST_COMPANIES[:3]}...\")\n",
    "    \n",
    "    start_time = datetime.now()\n",
    "    multi_data = monitor.get_insider_filings(days_back=TEST_DAYS_BACK)\n",
    "    retrieval_time = (datetime.now() - start_time).total_seconds()\n",
    "    \n",
    "    print(f\"   ⏱️ Retrieval time: {retrieval_time:.2f} seconds\")\n",
    "    print(f\"   📊 Total records: {len(multi_data)}\")\n",
    "    \n",
    "    if not multi_data.empty:\n",
    "        print(f\"   🏢 Companies with data: {multi_data['company_ticker'].nunique()}\")\n",
    "        print(f\"   👥 Total unique insiders: {multi_data['insider_name'].nunique()}\")\n",
    "        print(f\"   💰 Total transaction value: ${multi_data['transaction_value'].sum():,.2f}\")\n",
    "        \n",
    "        # Company breakdown\n",
    "        company_breakdown = multi_data.groupby('company_ticker').agg({\n",
    "            'insider_name': 'count',\n",
    "            'transaction_value': 'sum'\n",
    "        }).rename(columns={'insider_name': 'transaction_count'})\n",
    "        \n",
    "        print(\"\\n📊 Company breakdown:\")\n",
    "        display(company_breakdown.sort_values('transaction_value', ascending=False))\n",
    "        \n",
    "        # Transaction type breakdown\n",
    "        transaction_types = multi_data['transaction_code'].value_counts()\n",
    "        print(\"\\n📈 Transaction types:\")\n",
    "        display(transaction_types)\n",
    "        \n",
    "    else:\n",
    "        print(\"⚠️ No data found across all companies\")\n",
    "    \n",
    "    print(\"\\n✅ Test 3 PASSED: Multiple companies data retrieval working\")\n",
    "    \n",
    "except Exception as e:\n",
    "    print(f\"❌ Test 3 FAILED: {str(e)}\")\n",
    "    import traceback\n",
    "    traceback.print_exc()"
   ]
  },
  {
   "cell_type": "code",
   "execution_count": 62,
   "id": "0128af48",
   "metadata": {},
   "outputs": [
    {
     "name": "stdout",
     "output_type": "stream",
     "text": [
      "=== Test 4: Pattern Analysis ===\n",
      "🔬 Testing pattern analysis functionality...\n",
      "📊 Analysis Summary:\n",
      "   total_transactions: 258\n",
      "   unique_insiders: 34\n",
      "   unique_companies: 5\n",
      "   total_value: 741683534.909661\n",
      "   date_range: {'start': '2025-04-11', 'end': '2025-06-04'}\n",
      "\n",
      "📈 Transaction Type Analysis:\n",
      "\n",
      "🏢 Company Analysis:\n",
      "   Companies analyzed: 3\n",
      "\n",
      "💰 Large Transactions:\n",
      "   Count: 152\n",
      "   - Chris Kondo: $933,955.14\n",
      "   - Kevan Parekh: $941,420.00\n",
      "   - Kevan Parekh: $1,479,462.66\n",
      "\n",
      "✅ Test 4 PASSED: Pattern analysis working correctly\n",
      "📊 Analysis Summary:\n",
      "   total_transactions: 258\n",
      "   unique_insiders: 34\n",
      "   unique_companies: 5\n",
      "   total_value: 741683534.909661\n",
      "   date_range: {'start': '2025-04-11', 'end': '2025-06-04'}\n",
      "\n",
      "📈 Transaction Type Analysis:\n",
      "\n",
      "🏢 Company Analysis:\n",
      "   Companies analyzed: 3\n",
      "\n",
      "💰 Large Transactions:\n",
      "   Count: 152\n",
      "   - Chris Kondo: $933,955.14\n",
      "   - Kevan Parekh: $941,420.00\n",
      "   - Kevan Parekh: $1,479,462.66\n",
      "\n",
      "✅ Test 4 PASSED: Pattern analysis working correctly\n"
     ]
    }
   ],
   "source": [
    "print(\"=== Test 4: Pattern Analysis ===\")\n",
    "\n",
    "try:\n",
    "    print(\"🔬 Testing pattern analysis functionality...\")\n",
    "    \n",
    "    # Test pattern analysis\n",
    "    analysis = monitor.analyze_insider_patterns(days_back=TEST_DAYS_BACK * 2)  # Longer period\n",
    "    \n",
    "    if 'error' not in analysis:\n",
    "        print(\"📊 Analysis Summary:\")\n",
    "        summary = analysis['summary']\n",
    "        for key, value in summary.items():\n",
    "            print(f\"   {key}: {value}\")\n",
    "        \n",
    "        print(\"\\n📈 Transaction Type Analysis:\")\n",
    "        if 'by_transaction_type' in analysis:\n",
    "            for trans_type, data in analysis['by_transaction_type'].items():\n",
    "                if isinstance(data, dict) and 'shares' in data:\n",
    "                    print(f\"   {trans_type}: {data}\")\n",
    "        \n",
    "        print(\"\\n🏢 Company Analysis:\")\n",
    "        if 'by_company' in analysis:\n",
    "            company_data = analysis['by_company']\n",
    "            print(f\"   Companies analyzed: {len(company_data)}\")\n",
    "        \n",
    "        print(\"\\n💰 Large Transactions:\")\n",
    "        large_transactions = analysis.get('large_transactions', [])\n",
    "        print(f\"   Count: {len(large_transactions)}\")\n",
    "        if large_transactions:\n",
    "            for trans in large_transactions[:3]:  # Show top 3\n",
    "                print(f\"   - {trans.get('insider_name', 'Unknown')}: ${trans.get('transaction_value', 0):,.2f}\")\n",
    "        \n",
    "        print(\"\\n✅ Test 4 PASSED: Pattern analysis working correctly\")\n",
    "    else:\n",
    "        print(f\"⚠️ Analysis returned error: {analysis['error']}\")\n",
    "        print(\"✅ Test 4 PASSED: Error handling working correctly\")\n",
    "    \n",
    "except Exception as e:\n",
    "    print(f\"❌ Test 4 FAILED: {str(e)}\")\n",
    "    import traceback\n",
    "    traceback.print_exc()"
   ]
  },
  {
   "cell_type": "code",
   "execution_count": 63,
   "id": "baa4315c",
   "metadata": {},
   "outputs": [
    {
     "name": "stdout",
     "output_type": "stream",
     "text": [
      "=== Test 5: Alert Generation ===\n",
      "🚨 Testing alert generation functionality...\n",
      "   🎯 Total alerts generated: 169\n",
      "\n",
      "📊 Alert Types:\n",
      "   large_transaction: 88 alerts\n",
      "     - Chris Kondo (AAPL): $933,955.14\n",
      "     - Takeshi Numoto (MSFT): $1,389,000.00\n",
      "   c_suite_transaction: 61 alerts\n",
      "     - Frances Arnold (GOOGL): $19,137.51\n",
      "     - Kavitark Ram Shriram (GOOGL): $1,837,500.00\n",
      "   multiple_transactions: 20 alerts\n",
      "     - Amie Thuener O'Toole (GOOGL): $163,484.76\n",
      "     - Amy Coleman (MSFT): $6,230,140.50\n",
      "✅ All required alert fields present\n",
      "\n",
      "✅ Test 5 PASSED: Alert generation working correctly\n"
     ]
    }
   ],
   "source": [
    "print(\"=== Test 5: Alert Generation ===\")\n",
    "\n",
    "try:\n",
    "    print(\"🚨 Testing alert generation functionality...\")\n",
    "    \n",
    "    # Set lower thresholds for testing\n",
    "    monitor.set_alert_threshold('large_transaction', 100000)  # $100K\n",
    "    monitor.set_alert_threshold('c_suite_threshold', 10000)   # $10K\n",
    "    monitor.set_alert_threshold('multiple_transactions', 2)   # 2+ transactions\n",
    "    \n",
    "    # Generate alerts\n",
    "    alerts = monitor.generate_alerts(days_back=TEST_DAYS_BACK)\n",
    "    \n",
    "    print(f\"   🎯 Total alerts generated: {len(alerts)}\")\n",
    "    \n",
    "    if alerts:\n",
    "        # Group alerts by type\n",
    "        alert_types = {}\n",
    "        for alert in alerts:\n",
    "            alert_type = alert.alert_type\n",
    "            if alert_type not in alert_types:\n",
    "                alert_types[alert_type] = []\n",
    "            alert_types[alert_type].append(alert)\n",
    "        \n",
    "        print(\"\\n📊 Alert Types:\")\n",
    "        for alert_type, alert_list in alert_types.items():\n",
    "            print(f\"   {alert_type}: {len(alert_list)} alerts\")\n",
    "            \n",
    "            # Show sample alerts\n",
    "            for i, alert in enumerate(alert_list[:2]):  # Show max 2 per type\n",
    "                print(f\"     - {alert.insider_name} ({alert.company_ticker}): ${alert.transaction_value:,.2f}\")\n",
    "        \n",
    "        # Test alert data structure\n",
    "        sample_alert = alerts[0]\n",
    "        required_fields = ['alert_type', 'company_ticker', 'insider_name', \n",
    "                          'transaction_value', 'threshold_exceeded', 'alert_timestamp', 'details']\n",
    "        \n",
    "        missing_fields = [field for field in required_fields \n",
    "                         if not hasattr(sample_alert, field)]\n",
    "        \n",
    "        if missing_fields:\n",
    "            print(f\"⚠️ Missing alert fields: {missing_fields}\")\n",
    "        else:\n",
    "            print(\"✅ All required alert fields present\")\n",
    "    else:\n",
    "        print(\"⚠️ No alerts generated - this might be expected with current thresholds\")\n",
    "    \n",
    "    print(\"\\n✅ Test 5 PASSED: Alert generation working correctly\")\n",
    "    \n",
    "except Exception as e:\n",
    "    print(f\"❌ Test 5 FAILED: {str(e)}\")\n",
    "    import traceback\n",
    "    traceback.print_exc()"
   ]
  },
  {
   "cell_type": "code",
   "execution_count": 64,
   "id": "058fb5c1",
   "metadata": {},
   "outputs": [
    {
     "name": "stdout",
     "output_type": "stream",
     "text": [
      "=== Test 6: Export Functionality ===\n",
      "💾 Testing data export functionality...\n",
      "   📄 CSV export: test_insider_data_csv.csv\n",
      "   📊 CSV file size: 397 bytes\n",
      "   ✅ CSV contains 1 records\n",
      "   📄 JSON export: test_insider_data_json.json\n",
      "   📊 JSON file size: 76597 bytes\n",
      "   ✅ JSON export successful\n",
      "   📄 Excel export: test_insider_data_excel.xlsx\n",
      "   📊 Excel file size: 18055 bytes\n",
      "   ✅ Excel export successful\n",
      "\n",
      "✅ Test 6 PASSED: Export functionality working correctly\n",
      "   📄 Excel export: test_insider_data_excel.xlsx\n",
      "   📊 Excel file size: 18055 bytes\n",
      "   ✅ Excel export successful\n",
      "\n",
      "✅ Test 6 PASSED: Export functionality working correctly\n"
     ]
    }
   ],
   "source": [
    "print(\"=== Test 6: Export Functionality ===\")\n",
    "\n",
    "try:\n",
    "    print(\"💾 Testing data export functionality...\")\n",
    "    \n",
    "    # Test CSV export\n",
    "    csv_file = monitor.export_data(\n",
    "        ticker=\"AAPL\", \n",
    "        days_back=TEST_DAYS_BACK, \n",
    "        file_format='csv',\n",
    "        filename='test_insider_data_csv'\n",
    "    )\n",
    "    print(f\"   📄 CSV export: {csv_file}\")\n",
    "    \n",
    "    # Verify CSV file exists and has content\n",
    "    if os.path.exists(csv_file):\n",
    "        csv_size = os.path.getsize(csv_file)\n",
    "        print(f\"   📊 CSV file size: {csv_size} bytes\")\n",
    "        \n",
    "        # Read back and verify\n",
    "        exported_df = pd.read_csv(csv_file)\n",
    "        print(f\"   ✅ CSV contains {len(exported_df)} records\")\n",
    "    else:\n",
    "        print(f\"   ❌ CSV file not found: {csv_file}\")\n",
    "    \n",
    "    # Test JSON export\n",
    "    json_file = monitor.export_data(\n",
    "        days_back=TEST_DAYS_BACK, \n",
    "        file_format='json',\n",
    "        filename='test_insider_data_json'\n",
    "    )\n",
    "    print(f\"   📄 JSON export: {json_file}\")\n",
    "    \n",
    "    # Verify JSON file\n",
    "    if os.path.exists(json_file):\n",
    "        json_size = os.path.getsize(json_file)\n",
    "        print(f\"   📊 JSON file size: {json_size} bytes\")\n",
    "        print(f\"   ✅ JSON export successful\")\n",
    "    else:\n",
    "        print(f\"   ❌ JSON file not found: {json_file}\")\n",
    "    \n",
    "    # Test Excel export (if needed)\n",
    "    try:\n",
    "        excel_file = monitor.export_data(\n",
    "            days_back=TEST_DAYS_BACK, \n",
    "            file_format='excel',\n",
    "            filename='test_insider_data_excel'\n",
    "        )\n",
    "        print(f\"   📄 Excel export: {excel_file}\")\n",
    "        \n",
    "        if os.path.exists(excel_file):\n",
    "            excel_size = os.path.getsize(excel_file)\n",
    "            print(f\"   📊 Excel file size: {excel_size} bytes\")\n",
    "            print(f\"   ✅ Excel export successful\")\n",
    "    except ImportError:\n",
    "        print(\"   ⚠️ Excel export requires openpyxl - skipping\")\n",
    "    \n",
    "    print(\"\\n✅ Test 6 PASSED: Export functionality working correctly\")\n",
    "    \n",
    "except Exception as e:\n",
    "    print(f\"❌ Test 6 FAILED: {str(e)}\")\n",
    "    import traceback\n",
    "    traceback.print_exc()"
   ]
  },
  {
   "cell_type": "code",
   "execution_count": 66,
   "id": "3b8e373c",
   "metadata": {},
   "outputs": [
    {
     "name": "stdout",
     "output_type": "stream",
     "text": [
      "=== Test 7: Summary Statistics ===\n",
      "📊 Testing summary statistics functionality...\n",
      "📈 Summary Statistics:\n",
      "   Period: 30 days\n",
      "   Companies analyzed: 5\n",
      "   Total transactions: 165\n",
      "   Unique insiders: 27\n",
      "\n",
      "💰 Transaction Values:\n",
      "   Total: $289,430,175.40\n",
      "   Mean: $2,432,186.35\n",
      "   Median: $512,450.00\n",
      "   Max: $30,069,844.80\n",
      "\n",
      "📋 Transaction Codes:\n",
      "   S: 92\n",
      "   M: 54\n",
      "   F: 6\n",
      "   G: 6\n",
      "   C: 5\n",
      "   J: 1\n",
      "   Unknown: 1\n",
      "\n",
      "👥 Most Active Insiders:\n",
      "   Vaibhav Taneja: 21 transactions\n",
      "   Ira Matthew Ehrenpreis: 20 transactions\n",
      "   Kimbal Musk: 17 transactions\n",
      "   Douglas J Herrington: 15 transactions\n",
      "   Sundar Pichai: 11 transactions\n",
      "\n",
      "🏢 Most Active Companies:\n",
      "   AMZN: 66 transactions\n",
      "   TSLA: 59 transactions\n",
      "   GOOGL: 29 transactions\n",
      "   MSFT: 10 transactions\n",
      "   AAPL: 1 transactions\n",
      "\n",
      "✅ Test 7 PASSED: Summary statistics working correctly\n"
     ]
    }
   ],
   "source": [
    "print(\"=== Test 7: Summary Statistics ===\")\n",
    "\n",
    "try:\n",
    "    print(\"📊 Testing summary statistics functionality...\")\n",
    "    \n",
    "    # Get summary statistics\n",
    "    stats = monitor.get_summary_statistics(days_back=TEST_DAYS_BACK)\n",
    "    \n",
    "    if 'error' not in stats:\n",
    "        print(\"📈 Summary Statistics:\")\n",
    "        \n",
    "        # Basic info\n",
    "        print(f\"   Period: {stats['period']}\")\n",
    "        print(f\"   Companies analyzed: {stats['companies_analyzed']}\")\n",
    "        print(f\"   Total transactions: {stats['total_transactions']}\")\n",
    "        print(f\"   Unique insiders: {stats['unique_insiders']}\")\n",
    "        \n",
    "        # Transaction values\n",
    "        print(\"\\n💰 Transaction Values:\")\n",
    "        value_stats = stats['transaction_value']\n",
    "        print(f\"   Total: ${value_stats['total']:,.2f}\")\n",
    "        print(f\"   Mean: ${value_stats['mean']:,.2f}\")\n",
    "        print(f\"   Median: ${value_stats['median']:,.2f}\")\n",
    "        print(f\"   Max: ${value_stats['max']:,.2f}\")\n",
    "        \n",
    "        # Transaction codes\n",
    "        print(\"\\n📋 Transaction Codes:\")\n",
    "        for code, count in stats['transaction_codes'].items():\n",
    "            print(f\"   {code}: {count}\")\n",
    "        \n",
    "        # Most active\n",
    "        print(\"\\n👥 Most Active Insiders:\")\n",
    "        for insider, count in list(stats['most_active_insiders'].items())[:5]:\n",
    "            print(f\"   {insider}: {count} transactions\")\n",
    "        \n",
    "        print(\"\\n🏢 Most Active Companies:\")\n",
    "        for company, count in list(stats['most_active_companies'].items())[:5]:\n",
    "            print(f\"   {company}: {count} transactions\")\n",
    "        \n",
    "        print(\"\\n✅ Test 7 PASSED: Summary statistics working correctly\")\n",
    "    else:\n",
    "        print(f\"⚠️ Statistics returned error: {stats['error']}\")\n",
    "        print(\"✅ Test 7 PASSED: Error handling working correctly\")\n",
    "    \n",
    "except Exception as e:\n",
    "    print(f\"❌ Test 7 FAILED: {str(e)}\")\n",
    "    import traceback\n",
    "    traceback.print_exc()"
   ]
  },
  {
   "cell_type": "code",
   "execution_count": 67,
   "id": "9475a713",
   "metadata": {},
   "outputs": [
    {
     "name": "stdout",
     "output_type": "stream",
     "text": [
      "=== Test 8: Performance and Caching ===\n",
      "⚡ Testing performance and caching functionality...\n",
      "   🕐 First call time: 2.50 seconds\n",
      "   📊 Records retrieved: 10\n",
      "   💾 Cache entries: 1\n",
      "   🕐 Second call time: 0.00 seconds\n",
      "   📊 Records retrieved: 10\n",
      "   ✅ Cache working: 100.0% faster\n",
      "   ✅ Data consistency maintained\n",
      "\n",
      "✅ Test 8 PASSED: Performance and caching working correctly\n",
      "   🕐 First call time: 2.50 seconds\n",
      "   📊 Records retrieved: 10\n",
      "   💾 Cache entries: 1\n",
      "   🕐 Second call time: 0.00 seconds\n",
      "   📊 Records retrieved: 10\n",
      "   ✅ Cache working: 100.0% faster\n",
      "   ✅ Data consistency maintained\n",
      "\n",
      "✅ Test 8 PASSED: Performance and caching working correctly\n"
     ]
    }
   ],
   "source": [
    "print(\"=== Test 8: Performance and Caching ===\")\n",
    "\n",
    "try:\n",
    "    print(\"⚡ Testing performance and caching functionality...\")\n",
    "    \n",
    "    # Clear any existing cache\n",
    "    monitor.data_cache.clear()\n",
    "    \n",
    "    # First call - should hit SEC API\n",
    "    start_time = datetime.now()\n",
    "    first_call = monitor.get_insider_filings(ticker=\"MSFT\", days_back=30)\n",
    "    first_time = (datetime.now() - start_time).total_seconds()\n",
    "    \n",
    "    print(f\"   🕐 First call time: {first_time:.2f} seconds\")\n",
    "    print(f\"   📊 Records retrieved: {len(first_call)}\")\n",
    "    print(f\"   💾 Cache entries: {len(monitor.data_cache)}\")\n",
    "    \n",
    "    # Second call - should use cache\n",
    "    start_time = datetime.now()\n",
    "    second_call = monitor.get_insider_filings(ticker=\"MSFT\", days_back=30)\n",
    "    second_time = (datetime.now() - start_time).total_seconds()\n",
    "    \n",
    "    print(f\"   🕐 Second call time: {second_time:.2f} seconds\")\n",
    "    print(f\"   📊 Records retrieved: {len(second_call)}\")\n",
    "    \n",
    "    # Verify cache effectiveness\n",
    "    if second_time < first_time * 0.5:  # Cache should be significantly faster\n",
    "        print(f\"   ✅ Cache working: {((first_time - second_time) / first_time * 100):.1f}% faster\")\n",
    "    else:\n",
    "        print(f\"   ⚠️ Cache may not be working optimally\")\n",
    "    \n",
    "    # Verify data consistency\n",
    "    if len(first_call) == len(second_call):\n",
    "        print(\"   ✅ Data consistency maintained\")\n",
    "    else:\n",
    "        print(\"   ⚠️ Data inconsistency detected\")\n",
    "    \n",
    "    print(\"\\n✅ Test 8 PASSED: Performance and caching working correctly\")\n",
    "    \n",
    "except Exception as e:\n",
    "    print(f\"❌ Test 8 FAILED: {str(e)}\")\n",
    "    import traceback\n",
    "    traceback.print_exc()"
   ]
  },
  {
   "cell_type": "code",
   "execution_count": 70,
   "id": "27b0b9e2",
   "metadata": {},
   "outputs": [
    {
     "name": "stdout",
     "output_type": "stream",
     "text": [
      "=== Data Visualization Tests ===\n",
      "📊 Visualizing 258 transactions...\n"
     ]
    },
    {
     "data": {
      "image/png": "[encoded data removed]",
      "text/plain": [
       "<Figure size 1200x800 with 4 Axes>"
      ]
     },
     "metadata": {},
     "output_type": "display_data"
    },
    {
     "name": "stdout",
     "output_type": "stream",
     "text": [
      "\n",
      "📈 Creating interactive visualizations...\n"
     ]
    },
    {
     "data": {
      "application/vnd.plotly.v1+json": {
       "config": {
        "plotlyServerURL": "https://plot.ly"
       },
       "data": [
        {
         "customdata": [
          [
           "Chris Kondo",
           "Principal Accounting Officer",
           "S"
          ],
          [
           "Kevan Parekh",
           "Senior Vice President, CFO",
           "S"
          ],
          [
           "Kevan Parekh",
           "Senior Vice President, CFO",
           "F"
          ],
          [
           "Chris Kondo",
           "Principal Accounting Officer",
           "F"
          ]
         ],
         "hovertemplate": "company_ticker=AAPL<br>shares=%{x}<br>transaction_value=%{y}<br>Price per Share=%{marker.size}<br>insider_name=%{customdata[0]}<br>insider_title=%{customdata[1]}<br>transaction_code=%{customdata[2]}<extra></extra>",
         "legendgroup": "AAPL",
         "marker": {
          "color": "#636efa",
          "size": {
           "bdata": "I0p7gy8GakAAAAAAAMBpQBSuR+F6RGlAFK5H4XpEaUA=",
           "dtype": "f8"
          },
          "sizemode": "area",
          "sizeref": 1.1575,
          "symbol": "circle"
         },
         "mode": "markers",
         "name": "AAPL",
         "orientation": "v",
         "showlegend": true,
         "type": "scatter",
         "x": {
          "bdata": "AAAAAACGsUAAAAAAANqxQAAAAAAAl7xAAAAAAACOpkA=",
          "dtype": "f8"
         },
         "xaxis": "x",
         "y": {
          "bdata": "UiegSYaALEEAAAAA2LosQY/C9agmkzZBwvUoXDTPIUE=",
          "dtype": "f8"
         },
         "yaxis": "y"
        },
        {
         "customdata": [
          [
           "Takeshi Numoto",
           "EVP, Chief Marketing Officer",
           "S"
          ],
          [
           "Takeshi Numoto",
           "EVP, Chief Marketing Officer",
           "S"
          ],
          [
           "Takeshi Numoto",
           "EVP, Chief Marketing Officer",
           "F"
          ],
          [
           "Alice L. Jolla",
           "Chief Accounting Officer",
           "F"
          ],
          [
           "Amy Coleman",
           "EVP, Chief Human Resources Off",
           "F"
          ],
          [
           "Kathleen T Hogan",
           "EVP, Strategy",
           "S"
          ],
          [
           "Judson Althoff",
           "EVP, Chief Commercial Officer",
           "S"
          ],
          [
           "Judson Althoff",
           "EVP, Chief Commercial Officer",
           "S"
          ],
          [
           "Amy Coleman",
           "EVP, Chief Human Resources Off",
           "S"
          ],
          [
           "Amy Coleman",
           "EVP, Chief Human Resources Off",
           "F"
          ],
          [
           "Bradford L Smith",
           "Vice Chair and President",
           "S"
          ],
          [
           "Bradford L Smith",
           "Vice Chair and President",
           "S"
          ],
          [
           "Bradford L Smith",
           "Vice Chair and President",
           "S"
          ],
          [
           "Amy Coleman",
           "EVP, Chief Human Resources Off",
           "F"
          ]
         ],
         "hovertemplate": "company_ticker=MSFT<br>shares=%{x}<br>transaction_value=%{y}<br>Price per Share=%{marker.size}<br>insider_name=%{customdata[0]}<br>insider_title=%{customdata[1]}<br>transaction_code=%{customdata[2]}<extra></extra>",
         "legendgroup": "MSFT",
         "marker": {
          "color": "#EF553B",
          "size": {
           "bdata": "AAAAAADwfEDjpZvEIMB8QPYoXI/CxXxA9ihcj8LFfED2KFyPwsV8QAisHFpkXHxA7FG4HoWffEAIrBxaZKd8QHe+nxovQHxA16NwPQpPfECAt0CC4jR7QD2bVZ+rRHtAH4XrUbgSe0ApXI/C9Tx4QA==",
           "dtype": "f8"
          },
          "sizemode": "area",
          "sizeref": 1.1575,
          "symbol": "circle"
         },
         "mode": "markers",
         "name": "MSFT",
         "orientation": "v",
         "showlegend": true,
         "type": "scatter",
         "x": {
          "bdata": "AAAAAABwp0AAAAAAAECPQEJg5dAi12NA001iEFjzekBt5/up8V58QAAAAAAA/9RAAAAAAAApwkAAAAAAAC66QI2XbhJj3clA8KfGSzd5U0AAAAAAAMnRQAAAAACAuutAAAAAAABwt0CLbOf7qfE7QA==",
          "dtype": "f8"
         },
         "xaxis": "x",
         "y": {
          "bdata": "AAAAAMgxNUEAAAAAoBMcQUBSRIbb1vFAQdR9AHs7CEEG9S1zaIIJQQAAAPi+m2JBPgrXQ2c+UEH+1HgpMnFHQVMj9IiX1VZBbcoV3ik64UD5D+kH+T1eQejZrAbdoHdBAAAAADbUQ0Hpmsk3eyrFQA==",
          "dtype": "f8"
         },
         "yaxis": "y"
        },
        {
         "customdata": [
          [
           "Sundar Pichai",
           "Chief Executive Officer",
           "S"
          ],
          [
           "Sundar Pichai",
           "Chief Executive Officer",
           "S"
          ],
          [
           "Frances Arnold",
           "Director",
           "S"
          ],
          [
           "Amie Thuener O'Toole",
           "VP, Chief Accounting Officer",
           "F"
          ],
          [
           "Amie Thuener O'Toole",
           "VP, Chief Accounting Officer",
           "F"
          ],
          [
           "Sundar Pichai",
           "Chief Executive Officer",
           "S"
          ],
          [
           "Sundar Pichai",
           "Chief Executive Officer",
           "S"
          ],
          [
           "Sundar Pichai",
           "Chief Executive Officer",
           "S"
          ],
          [
           "Sundar Pichai",
           "Chief Executive Officer",
           "S"
          ],
          [
           "Sundar Pichai",
           "Chief Executive Officer",
           "S"
          ],
          [
           "Sundar Pichai",
           "Chief Executive Officer",
           "S"
          ],
          [
           "Sundar Pichai",
           "Chief Executive Officer",
           "S"
          ],
          [
           "Sundar Pichai",
           "Chief Executive Officer",
           "S"
          ],
          [
           "Sundar Pichai",
           "Chief Executive Officer",
           "S"
          ],
          [
           "Kavitark Ram Shriram",
           "Director",
           "S"
          ],
          [
           "Kavitark Ram Shriram",
           "Director",
           "S"
          ],
          [
           "John L. Hennessy",
           "Director",
           "S"
          ],
          [
           "Brin Sergey",
           "Director, 10% Owner",
           "C"
          ],
          [
           "Brin Sergey",
           "Director, 10% Owner",
           "G"
          ],
          [
           "Brin Sergey",
           "Director, 10% Owner",
           "G"
          ],
          [
           "Brin Sergey",
           "Director, 10% Owner",
           "C"
          ],
          [
           "GV 2016 GP, L.L.C. / GV 2016 GP, L.P. / GV 2016, L.P. / Alphabet Inc.",
           "10% Owner",
           "J"
          ],
          [
           "John L. Hennessy",
           "Director",
           "S"
          ],
          [
           "John L. Hennessy",
           "Director",
           "S"
          ],
          [
           "John L. Hennessy",
           "Director",
           "S"
          ],
          [
           "John L. Hennessy",
           "Director",
           "S"
          ],
          [
           "Sundar Pichai",
           "Chief Executive Officer",
           "S"
          ],
          [
           "Sundar Pichai",
           "Chief Executive Officer",
           "S"
          ],
          [
           "Sundar Pichai",
           "Chief Executive Officer",
           "S"
          ],
          [
           "Sundar Pichai",
           "Chief Executive Officer",
           "S"
          ],
          [
           "Sundar Pichai",
           "Chief Executive Officer",
           "S"
          ],
          [
           "Sundar Pichai",
           "Chief Executive Officer",
           "S"
          ],
          [
           "Sundar Pichai",
           "Chief Executive Officer",
           "S"
          ],
          [
           "Sundar Pichai",
           "Chief Executive Officer",
           "S"
          ],
          [
           "Sundar Pichai",
           "Chief Executive Officer",
           "S"
          ],
          [
           "Sundar Pichai",
           "Chief Executive Officer",
           "S"
          ],
          [
           "Sundar Pichai",
           "Chief Executive Officer",
           "S"
          ],
          [
           "Sundar Pichai",
           "Chief Executive Officer",
           "S"
          ],
          [
           "Sundar Pichai",
           "Chief Executive Officer",
           "S"
          ],
          [
           "Frances Arnold",
           "Director",
           "S"
          ],
          [
           "Amie Thuener O'Toole",
           "VP, Chief Accounting Officer",
           "F"
          ],
          [
           "Amie Thuener O'Toole",
           "VP, Chief Accounting Officer",
           "F"
          ],
          [
           "Kavitark Ram Shriram",
           "Director",
           "G"
          ],
          [
           "Kavitark Ram Shriram",
           "Director",
           "G"
          ],
          [
           "Kavitark Ram Shriram",
           "Director",
           "G"
          ],
          [
           "Kavitark Ram Shriram",
           "Director",
           "G"
          ],
          [
           "Sundar Pichai",
           "Chief Executive Officer",
           "S"
          ],
          [
           "Sundar Pichai",
           "Chief Executive Officer",
           "S"
          ],
          [
           "Sundar Pichai",
           "Chief Executive Officer",
           "S"
          ],
          [
           "Sundar Pichai",
           "Chief Executive Officer",
           "S"
          ],
          [
           "Sundar Pichai",
           "Chief Executive Officer",
           "S"
          ],
          [
           "John L. Hennessy",
           "Director",
           "S"
          ],
          [
           "John L. Hennessy",
           "Director",
           "S"
          ],
          [
           "John L. Hennessy",
           "Director",
           "S"
          ],
          [
           "John L. Hennessy",
           "Director",
           "S"
          ]
         ],
         "hovertemplate": "company_ticker=GOOGL<br>shares=%{x}<br>transaction_value=%{y}<br>Price per Share=%{marker.size}<br>insider_name=%{customdata[0]}<br>insider_title=%{customdata[1]}<br>transaction_code=%{customdata[2]}<extra></extra>",
         "legendgroup": "GOOGL",
         "marker": {
          "color": "#00cc96",
          "size": {
           "bdata": "tvP91HgNZUCppE5AEyVlQIXrUbgejWVAexSuR+EyZUB7FK5H4TJlQG1Wfa62smRAhJ7Nqs/XZEAukKD4MfpkQJJc/kP6HWVAAJF++zpKZUC/DpwzomBlQMX+snvyhmVAPQrXo3ClZUAr9pfdk79lQAAAAAAA4GVAAAAAAADgZUAAAAAAAOBlQAAAAAAAAAAAAAAAAAAAAAAAAAAAAAAAAAAAAAAAAAAAAAAAAAAAAAC4HoXrUdRjQM3MzMzM/GNAzczMzMwsZEB9PzVeuhlkQN/gC5OpzGJAKe0NvjDnYkAgY+5aQgRjQJyiI7n8HWNA9ihcj8JHY0ASFD/G3G9jQMPTK2UZmmNA+zpwzoi0Y0DXo3A9CuljQK5H4XoUCmRAj8L1KFxfZEA4Z0Rpb7RkQGHD0ytlzWRAMzMzMzP7Y0DXo3A9Ci9kQNejcD0KL2RAAAAAAAAAAAAAAAAAAAAAAAAAAAAAAAAAAAAAAAAAAADcRgN4C1BjQE2EDU+vcGNASL99HTiRY0DChqdXyqpjQClcj8L1wGNANs07TtETZECPwvUoXDNkQNEi2/l+TGRA5IOezapxZEA=",
           "dtype": "f8"
          },
          "sizemode": "area",
          "sizeref": 1.1575,
          "symbol": "circle"
         },
         "mode": "markers",
         "name": "GOOGL",
         "orientation": "v",
         "showlegend": true,
         "type": "scatter",
         "x": {
          "bdata": "AAAAAIAX00AAAAAAAEvJQAAAAAAAwFtAAAAAAABQhUAAAAAAAKBxQAAAAAAAcIlAAAAAAADwmUAAAAAAAOCFQAAAAAAAsJ1AAAAAAAB6wkAAAAAAAH7AQAAAAAAAXqFAAAAAAAANt0AAAAAAANiVQAAAAAAAgsRAAAAAAACUwUAAAAAAAMCCQAAAAAAAQD9BAAAAAABAP0EAAAAAAEA/QQAAAOzberVBAAAA4PPghkEAAAAAAAAkQAAAAAAAACRAAAAAAADAXkAAAAAAAIBMQAAAAAAA4JVAAAAAAACwvUAAAAAAAPPAQAAAAAAADqZAAAAAAAAAiUAAAAAAAOCFQAAAAAAAIIxAAAAAAADAgkAAAAAAAAB5QAAAAAAAAGlAAAAAAAAAaUAAAAAAAEu9QAAAAAAA4IVAAAAAAADAW0AAAAAAAFCFQAAAAAAAoHFAAAAAAICEHkEAAAAAgIQeQQAAAACAhB5BAAAAAICEHkEAAAAAAOisQAAAAACAvchAAAAAAADjt0AAAAAAAF/DQAAAAAAAAFlAAAAAAAAATkAAAAAAAABJQAAAAAAAAElAAAAAAAAAREA=",
          "dtype": "f8"
         },
         "xaxis": "x",
         "y": {
          "bdata": "ZmZmRuseSUH2KFzvhbZAQT0K16NgsNJASOF6FMY8/ECPwvUoDFrnQDSitDcQdABB/Knx0uzkEEEfhetREK78QOF6FK5PlxNBMgisXNiVOEGze/Iw+wg2QUrqBHTaXRdBcD0KV2gvL0GU9gZfDLENQQAAAAC8CTxBAAAAAFgIOEEAAAAAgKL5QAAAAAAAAAAAAAAAAAAAAAAAAAAAAAAAAAAAAAAAAAAAAAAAAAAAAABmZmZmZsmYQAAAAAAA/JhAzczMzAxj00CLbOf76ebBQHE9CtfPswlBhutRuHuJMUGhZ7MKEyU0QcX+srv1WRpBAAAAACAg/kBxPQrX75L6QB6F61FwOgFBHoXrUZAX90AAAAAAIBzvQAAAAADAT99A///////U30DdtYTcC/QyQR+F61HQcPxAZmZmZtZT0UA9CtejqOL6QHsUrkfRO+ZAAAAAAAAAAAAAAAAAAAAAAAAAAAAAAAAAAAAAAAAAAADC9ShcDnIhQYqO5JJFDz5BASuH9lw2LUG2Yn9Zls83QQAAAACA3c5AYxBYOZTSwkD/////P5C/QGdmZmaGt79A3SQGgRWOuUA=",
          "dtype": "f8"
         },
         "yaxis": "y"
        },
        {
         "customdata": [
          [
           "Jeffrey P Bezos",
           "Executive Chair",
           "G"
          ],
          [
           "Douglas J Herrington",
           "CEO Worldwide Amazon Stores",
           "S"
          ],
          [
           "Douglas J Herrington",
           "CEO Worldwide Amazon Stores",
           "S"
          ],
          [
           "Douglas J Herrington",
           "CEO Worldwide Amazon Stores",
           "S"
          ],
          [
           "Andrew R Jassy",
           "President and CEO",
           "S"
          ],
          [
           "Andrew R Jassy",
           "President and CEO",
           "S"
          ],
          [
           "Andrew R Jassy",
           "President and CEO",
           "S"
          ],
          [
           "Matthew S Garman",
           "CEO Amazon Web Services",
           "S"
          ],
          [
           "Matthew S Garman",
           "CEO Amazon Web Services",
           "S"
          ],
          [
           "Matthew S Garman",
           "CEO Amazon Web Services",
           "S"
          ],
          [
           "Matthew S Garman",
           "CEO Amazon Web Services",
           "S"
          ],
          [
           "David Zapolsky",
           "Senior Vice President",
           "S"
          ],
          [
           "David Zapolsky",
           "Senior Vice President",
           "S"
          ],
          [
           "David Zapolsky",
           "Senior Vice President",
           "S"
          ],
          [
           "David Zapolsky",
           "Senior Vice President",
           "S"
          ],
          [
           "David Zapolsky",
           "Senior Vice President",
           "S"
          ],
          [
           "Brian T Olsavsky",
           "Senior Vice President and CFO",
           "S"
          ],
          [
           "Shelley Reynolds",
           "Vice President",
           "S"
          ],
          [
           "Shelley Reynolds",
           "Vice President",
           "S"
          ],
          [
           "Douglas J Herrington",
           "CEO Worldwide Amazon Stores",
           "G"
          ],
          [
           "Douglas J Herrington",
           "CEO Worldwide Amazon Stores",
           "S"
          ],
          [
           "Douglas J Herrington",
           "CEO Worldwide Amazon Stores",
           "S"
          ],
          [
           "Douglas J Herrington",
           "CEO Worldwide Amazon Stores",
           "S"
          ],
          [
           "Indra K Nooyi",
           "Director",
           "M"
          ],
          [
           "Indra K Nooyi",
           "Director",
           "M"
          ],
          [
           "Andrew Y. Ng",
           "Director",
           "M"
          ],
          [
           "Andrew Y. Ng",
           "Director",
           "M"
          ],
          [
           "Jeffrey P Bezos",
           "Executive Chair",
           "G"
          ],
          [
           "Jeffrey P Bezos",
           "Executive Chair",
           "G"
          ],
          [
           "Alexander Keith Brian",
           "Director",
           "S"
          ],
          [
           "Douglas J Herrington",
           "CEO Worldwide Amazon Stores",
           "S"
          ],
          [
           "AMAZON COM INC",
           "10% Owner",
           "J"
          ]
         ],
         "hovertemplate": "company_ticker=AMZN<br>shares=%{x}<br>transaction_value=%{y}<br>Price per Share=%{marker.size}<br>insider_name=%{customdata[0]}<br>insider_title=%{customdata[1]}<br>transaction_code=%{customdata[2]}<extra></extra>",
         "legendgroup": "AMZN",
         "marker": {
          "color": "#ab63fa",
          "size": {
           "bdata": "AAAAAAAAAACPwvUoXJ9pQNzXgXNGGGlA7FG4HoUraUCutmJ/2RdpQDnWxW00MmlAtRX7y+5ZaUAdWmQ73xdpQD/G3LWEMmlA/Bhz1xJaaUCUh4Va02ZpQJXUCWgiGGlAV+wvuycxaUAr9pfdk1dpQJqZmZmZKWlA8x/Sb19taUAK16NwPTJpQIj029eBF2lAj8L1KFwvaUAAAAAAAAAAAH9qvHSTkmlAdZMYBFakaUApXI/C9cBpQAAAAAAAAAAAAAAAAAAAAAAAAAAAAAAAAAAAAAAAAAAAAAAAAAAAAAAAAAAAAAAAAPYoXI/CVWpAPQrXo3DVZ0AAAAAAAIA2QA==",
           "dtype": "f8"
          },
          "sizemode": "area",
          "sizeref": 1.1575,
          "symbol": "circle"
         },
         "mode": "markers",
         "name": "AMZN",
         "orientation": "v",
         "showlegend": true,
         "type": "scatter",
         "x": {
          "bdata": "AAAAAIDW10AAAAAAAIijQAAAAAAAV7pAAAAAAAAAWUAAAAAAgCvHQAAAAAAAFrFAAAAAAABmrEAAAAAAgOzIQAAAAAAA6bBAAAAAAAACrUAAAAAAAABeQAAAAAAAY7FAAAAAAAD8l0AAAAAAAGiRQAAAAAAARrlAAAAAAAC8u0AAAAAAgFXRQAAAAAAAfqNAAAAAAAAAaUAAAAAAAACzQAAAAAAAwJJAAAAAAACoqUAAAAAAAMByQAAAAAAAkKBAAAAAAACQoEAAAAAAAACfQAAAAAAAAJ9AAAAAAIhsAEEAAAAApPscQQAAAAAAQI9AAAAAAACIo0AAAACgaE1oQQ==",
          "dtype": "f8"
         },
         "xaxis": "x",
         "y": {
          "bdata": "AAAAAAAAAAAAAAAACEcfQWaIYz3zpzRBAAAAAACq00B9HTi/QCtCQaMjubz85ypBVOOlm39/JkFANV7aW4tDQUYldWJ0oSpB1sVttDb7JkEbL90kZtDXQLIubuPpRCtBRItsp7fhEkFO0ZFcxpELQQAAAACL3zNBcT0KF6sJNkEAAADABUxLQYcW2U6DkR5BAAAAAACt40AAAAAAAAAAAM3MzMzE9w1BOrTI9gGPJEEAAAAAIC7uQAAAAAAAAAAAAAAAAAAAAAAAAAAAAAAAAAAAAAAAAAAAAAAAAAAAAAAAAAAAAAAAAAAAAADAtwlB/////wsYHUEAAICQbRaxQQ==",
          "dtype": "f8"
         },
         "yaxis": "y"
        },
        {
         "customdata": [
          [
           "Vaibhav Taneja",
           "Chief Financial Officer",
           "S"
          ],
          [
           "Vaibhav Taneja",
           "Chief Financial Officer",
           "S"
          ],
          [
           "Vaibhav Taneja",
           "Chief Financial Officer",
           "S"
          ],
          [
           "Vaibhav Taneja",
           "Chief Financial Officer",
           "S"
          ],
          [
           "Vaibhav Taneja",
           "Chief Financial Officer",
           "S"
          ],
          [
           "Vaibhav Taneja",
           "Chief Financial Officer",
           "S"
          ],
          [
           "Vaibhav Taneja",
           "Chief Financial Officer",
           "S"
          ],
          [
           "Vaibhav Taneja",
           "Chief Financial Officer",
           "S"
          ],
          [
           "Vaibhav Taneja",
           "Chief Financial Officer",
           "S"
          ],
          [
           "Vaibhav Taneja",
           "Chief Financial Officer",
           "S"
          ],
          [
           "Vaibhav Taneja",
           "Chief Financial Officer",
           "S"
          ],
          [
           "Vaibhav Taneja",
           "Chief Financial Officer",
           "M"
          ],
          [
           "Vaibhav Taneja",
           "Chief Financial Officer",
           "M"
          ],
          [
           "Jack Hartung",
           "Director",
           "Unknown"
          ],
          [
           "Ira Matthew Ehrenpreis",
           "Director",
           "S"
          ],
          [
           "Ira Matthew Ehrenpreis",
           "Director",
           "S"
          ],
          [
           "Ira Matthew Ehrenpreis",
           "Director",
           "S"
          ],
          [
           "Ira Matthew Ehrenpreis",
           "Director",
           "S"
          ],
          [
           "Ira Matthew Ehrenpreis",
           "Director",
           "S"
          ],
          [
           "Ira Matthew Ehrenpreis",
           "Director",
           "S"
          ],
          [
           "Ira Matthew Ehrenpreis",
           "Director",
           "S"
          ],
          [
           "Ira Matthew Ehrenpreis",
           "Director",
           "S"
          ],
          [
           "Ira Matthew Ehrenpreis",
           "Director",
           "S"
          ],
          [
           "Ira Matthew Ehrenpreis",
           "Director",
           "S"
          ],
          [
           "Ira Matthew Ehrenpreis",
           "Director",
           "S"
          ],
          [
           "Ira Matthew Ehrenpreis",
           "Director",
           "S"
          ],
          [
           "Ira Matthew Ehrenpreis",
           "Director",
           "S"
          ],
          [
           "Ira Matthew Ehrenpreis",
           "Director",
           "S"
          ],
          [
           "Ira Matthew Ehrenpreis",
           "Director",
           "S"
          ],
          [
           "Ira Matthew Ehrenpreis",
           "Director",
           "S"
          ],
          [
           "Ira Matthew Ehrenpreis",
           "Director",
           "M"
          ],
          [
           "Ira Matthew Ehrenpreis",
           "Director",
           "M"
          ],
          [
           "Kimbal Musk",
           "Director",
           "S"
          ],
          [
           "Kimbal Musk",
           "Director",
           "S"
          ],
          [
           "Kimbal Musk",
           "Director",
           "S"
          ],
          [
           "Kimbal Musk",
           "Director",
           "S"
          ],
          [
           "Kimbal Musk",
           "Director",
           "S"
          ],
          [
           "Kimbal Musk",
           "Director",
           "S"
          ],
          [
           "Kimbal Musk",
           "Director",
           "S"
          ],
          [
           "Kimbal Musk",
           "Director",
           "S"
          ],
          [
           "Kimbal Musk",
           "Director",
           "S"
          ],
          [
           "Kimbal Musk",
           "Director",
           "S"
          ],
          [
           "Kimbal Musk",
           "Director",
           "S"
          ],
          [
           "Kimbal Musk",
           "Director",
           "S"
          ],
          [
           "Kimbal Musk",
           "Director",
           "S"
          ],
          [
           "Kimbal Musk",
           "Director",
           "S"
          ],
          [
           "Kimbal Musk",
           "Director",
           "S"
          ],
          [
           "Kimbal Musk",
           "Director",
           "M"
          ],
          [
           "Vaibhav Taneja",
           "Chief Financial Officer",
           "S"
          ],
          [
           "Vaibhav Taneja",
           "Chief Financial Officer",
           "M"
          ],
          [
           "Vaibhav Taneja",
           "Chief Financial Officer",
           "S"
          ],
          [
           "Vaibhav Taneja",
           "Chief Financial Officer",
           "M"
          ],
          [
           "Robyn M Denholm",
           "Director",
           "S"
          ],
          [
           "Robyn M Denholm",
           "Director",
           "S"
          ],
          [
           "Robyn M Denholm",
           "Director",
           "S"
          ],
          [
           "Robyn M Denholm",
           "Director",
           "S"
          ],
          [
           "Robyn M Denholm",
           "Director",
           "S"
          ],
          [
           "Robyn M Denholm",
           "Director",
           "S"
          ],
          [
           "Robyn M Denholm",
           "Director",
           "M"
          ],
          [
           "Vaibhav Taneja",
           "Chief Financial Officer",
           "S"
          ],
          [
           "Vaibhav Taneja",
           "Chief Financial Officer",
           "S"
          ],
          [
           "Vaibhav Taneja",
           "Chief Financial Officer",
           "S"
          ],
          [
           "Vaibhav Taneja",
           "Chief Financial Officer",
           "S"
          ],
          [
           "Vaibhav Taneja",
           "Chief Financial Officer",
           "S"
          ],
          [
           "Vaibhav Taneja",
           "Chief Financial Officer",
           "S"
          ],
          [
           "Vaibhav Taneja",
           "Chief Financial Officer",
           "S"
          ],
          [
           "Vaibhav Taneja",
           "Chief Financial Officer",
           "S"
          ],
          [
           "Vaibhav Taneja",
           "Chief Financial Officer",
           "M"
          ],
          [
           "Kathleen Wilson-Thompson",
           "Director",
           "D"
          ],
          [
           "Kathleen Wilson-Thompson",
           "Director",
           "D"
          ],
          [
           "James R Murdoch",
           "Director",
           "D"
          ],
          [
           "Kimbal Musk",
           "Director",
           "D"
          ],
          [
           "Ira Matthew Ehrenpreis",
           "Director",
           "D"
          ],
          [
           "Robyn M Denholm",
           "Director",
           "D"
          ],
          [
           "Robyn M Denholm",
           "Director",
           "D"
          ],
          [
           "Robyn M Denholm",
           "Director",
           "D"
          ],
          [
           "Robyn M Denholm",
           "Director",
           "D"
          ],
          [
           "Robyn M Denholm",
           "Director",
           "S"
          ],
          [
           "Robyn M Denholm",
           "Director",
           "S"
          ],
          [
           "Robyn M Denholm",
           "Director",
           "S"
          ],
          [
           "Robyn M Denholm",
           "Director",
           "S"
          ],
          [
           "Robyn M Denholm",
           "Director",
           "S"
          ],
          [
           "Robyn M Denholm",
           "Director",
           "S"
          ],
          [
           "Robyn M Denholm",
           "Director",
           "S"
          ],
          [
           "Robyn M Denholm",
           "Director",
           "S"
          ],
          [
           "Robyn M Denholm",
           "Director",
           "S"
          ],
          [
           "Robyn M Denholm",
           "Director",
           "M"
          ],
          [
           "Joseph Gebbia",
           "Director",
           "P"
          ]
         ],
         "hovertemplate": "company_ticker=TSLA<br>shares=%{x}<br>transaction_value=%{y}<br>Price per Share=%{marker.size}<br>insider_name=%{customdata[0]}<br>insider_title=%{customdata[1]}<br>transaction_code=%{customdata[2]}<extra></extra>",
         "legendgroup": "TSLA",
         "marker": {
          "color": "#FFA15A",
          "size": {
           "bdata": "uB6F61HcdEAAAAAAAAR1QOf7qfHSG3VAO99PjZcqdUBmZmZmZkJ1QHNoke18VXVAAAAAAABkdUA9CtejcH11QN9PjZdumHVA7FG4HoWzdUAAAAAAAOB1QLgehetRODJAuB6F61E4MkAAAAAAAAAAAPYoXI/CuXVAK4cW2c7NdUA3iUFg5eh1QMHKoUW29XVAnMQgsHIEdkDb+X5qvBR2QE5iEFg5JHZAVOOlm8Q2dkCF61G4HkV2QDEIrBxaUnZAkxgEVg5pdkCuR+F6FHZ2QIPAyqFFiHZARrbz/dSWdkAhsHJokad2QLKd76fGs3ZAXI/C9SjcNkB7FK5H4bo4QPLSTWIQvnVAoBov3STkdUDjpZvEIPJ1QKAaL90kAnZAi2zn+6kRdkA5tMh2viF2QClcj8L1NHZAnMQgsHJCdkCNl24Sg1B2QOkmMQisZHZAN4lBYOVydkAnMQisHIR2QN9PjZduknZArkfhehSkdkBvEoPAyrF2QHsUrkfhujhAbxKDwMrhdUC4HoXrUTgyQAAAAAAAwHJAuB6F61E4MkCq8dJNYgRxQN9PjZduEnFAhxbZzvcjcUA9CtejcDNxQK5H4XoURHFAGQRWDi1ScUB7FK5H4bo4QHsUrkfhhHFA+FPjpZuicUCLbOf7qbFxQN0kBoGVw3FACKwcWmTRcUAX2c73U/FxQLbz/dR4B3JAEoPAyqEXckC4HoXrUTgyQNejcD0KVzZAmpmZmZkZMEB7FK5H4bo4QHsUrkfhujhAexSuR+G6OEB7FK5H4bo4QJqZmZmZGTBAUrgehevRL0CkcD0K13NfQG8Sg8DKiXFAWmQ730+dcUA5tMh2vqdxQFCNl24SuXFABoGVQ4vIcUAOLbKd79lxQJHtfD817HFAJzEIrBz6cUDn+6nx0glyQHsUrkfhujhAsHJoke0EcEA=",
           "dtype": "f8"
          },
          "sizemode": "area",
          "sizeref": 1.1575,
          "symbol": "circle"
         },
         "mode": "markers",
         "name": "TSLA",
         "orientation": "v",
         "showlegend": true,
         "type": "scatter",
         "x": {
          "bdata": "AAAAAAAAWUAAAAAAAAB5QAAAAAAAwJJAAAAAAADAgkAAAAAAAEB/QAAAAAAAAHlAAAAAAADAckAAAAAAAGigQAAAAAAAwHJAAAAAAAAAWUAAAAAAAECPQAAAAAAAcLdAAAAAAABAj0AAAAAAAAAAAAAAAAAAaLBAAAAAAAAAeUAAAAAAAEC/QAAAAAAAs9BAAAAAAMDd4EAAAAAAQGnTQAAAAAAAhshAAAAAAKDA7EAAAAAAYJr0QAAAAADA/+BAAAAAAOCy4EAAAAAAQCvqQAAAAAAAgthAAAAAAIAu2kAAAAAAYCjkQAAAAACAUNVAAAAAAAD5FUEAAAAApIgYQQAAAAAAMJFAAAAAAADAkkAAAAAAAKimQAAAAAAALLpAAAAAAABAr0AAAAAAAACZQAAAAAAAYcFAAAAAAIAE0EAAAAAAAFi7QAAAAAAABbVAAAAAAACAxEAAAAAAAP+6QAAAAAAAJLNAAAAAAAB+v0AAAAAAAJa3QAAAAABAXPZAAAAAAABwp0AAAAAAAHCnQAAAAAAAQK9AAAAAAABAr0AAAAAAAE+3QAAAAABgiuhAAAAAAIBSzkAAAAAAAKveQAAAAAAAtLRAAAAAAADIrkAAAAAAsHD7QAAAAAAA4G9AAAAAAADghUAAAAAAAMiJQAAAAAAAIIxAAAAAAABAekAAAAAAAMByQAAAAAAAwHJAAAAAAADAckAAAAAAAECvQAAAAAAghf5AAAAAAMjXCkEAAAAAFE4YQQAAAADQtAxBAAAAABw+FUEAAAAAcHjyQAAAAADAehBBAAAAAABM/UAAAAAAoCfrQAAAAAAAbJJAAAAAAADXsEAAAAAAAIy6QAAAAAAAAbtAAAAAAABAj0AAAAAA4FfsQAAAAABAxdFAAAAAAIChy0AAAAAAACCcQAAAAABgcPtAAAAAAABAr0A=",
          "dtype": "f8"
         },
         "xaxis": "x",
         "y": {
          "bdata": "AAAAACBM4EAAAAAAIGsAQTMzMzObvBhBmZmZmenNCEEAAAAA2MIEQZqZmZnJqgBBAAAAADAR+UAAAAAAIAkmQZmZmZmhTvlAAAAAAED04EAAAAAAwFwVQQAAAACAsPpAAAAAAADL0UAAAAAAAAAAAAAAAAD6RjZBmpmZmckIAUEAAAAAcGVFQc3MzCxj61ZBwcqhVZg1Z0H4U+Ml4MlaQVYOLbLi91BBexSutaP1c0HNzMxMRa18QQRWDnUmt2dBXrpJ1JhjZ0G4HoU7TF5yQRBYOdS9QWFBPgrXO2B7YkGS7XyboIpsQYts5zstPl5BAAAAALhkX0GPwvXwwfViQZqZmZkrWxdBNDMzM1unGUFmZmZmWxMvQWdmZuYAAEJBAAAAAECNNUHNzMzMXEohQQrXozDmHkhB001iYLVIVkEAAAAATBFDQW4Sg0Ahaz1BzvdT4zXDTEE3iUEQxP5CQc3MzMysADtBexSu5xlIRkGmm8QgK7pAQexRuJ7FR0FBAAAAAOAGMEEAAAAAgLDqQAAAAACATzJBAAAAAADL8UDufD/1Uso4Qe+nxktLL2pBzczMDOk9UEG4HoV7JHxgQQAAAIBXVzZBcT0K10upMEHNzMwsxDRFQWdmZmZcc/FAzczMzFAcCEFmZmZmxoIMQczMzMzMOQ9BPQrXo4g7/UBnZmZmzgb1QJmZmZnBIPVAmZmZmbEz9UAAAAAAAMvxQDMzM7OJTkVBmpmZ2boCS0F7FK7vf8hiQQrXoxBBL1ZBcT0Kj6NqYEFnZmYmZIw8QQAAAAAelVBBAAAAANAhPUEfhevhr7BaQXnpJjFmMRRBbhKDwAGKMkEGgZVDEUs9QfCnxqtq6T1BAAAAANhdEUFs5/tFbp9vQYts55Ps51NBokW284QLT0HMzMzMRLUfQZqZmVmGNEVBAAAAAKBJL0E=",
          "dtype": "f8"
         },
         "yaxis": "y"
        }
       ],
       "layout": {
        "legend": {
         "itemsizing": "constant",
         "title": {
          "text": "company_ticker"
         },
         "tracegroupgap": 0
        },
        "template": {
         "data": {
          "bar": [
           {
            "error_x": {
             "color": "#2a3f5f"
            },
            "error_y": {
             "color": "#2a3f5f"
            },
            "marker": {
             "line": {
              "color": "#E5ECF6",
              "width": 0.5
             },
             "pattern": {
              "fillmode": "overlay",
              "size": 10,
              "solidity": 0.2
             }
            },
            "type": "bar"
           }
          ],
          "barpolar": [
           {
            "marker": {
             "line": {
              "color": "#E5ECF6",
              "width": 0.5
             },
             "pattern": {
              "fillmode": "overlay",
              "size": 10,
              "solidity": 0.2
             }
            },
            "type": "barpolar"
           }
          ],
          "carpet": [
           {
            "aaxis": {
             "endlinecolor": "#2a3f5f",
             "gridcolor": "white",
             "linecolor": "white",
             "minorgridcolor": "white",
             "startlinecolor": "#2a3f5f"
            },
            "baxis": {
             "endlinecolor": "#2a3f5f",
             "gridcolor": "white",
             "linecolor": "white",
             "minorgridcolor": "white",
             "startlinecolor": "#2a3f5f"
            },
            "type": "carpet"
           }
          ],
          "choropleth": [
           {
            "colorbar": {
             "outlinewidth": 0,
             "ticks": ""
            },
            "type": "choropleth"
           }
          ],
          "contour": [
           {
            "colorbar": {
             "outlinewidth": 0,
             "ticks": ""
            },
            "colorscale": [
             [
              0,
              "#0d0887"
             ],
             [
              0.1111111111111111,
              "#46039f"
             ],
             [
              0.2222222222222222,
              "#7201a8"
             ],
             [
              0.3333333333333333,
              "#9c179e"
             ],
             [
              0.4444444444444444,
              "#bd3786"
             ],
             [
              0.5555555555555556,
              "#d8576b"
             ],
             [
              0.6666666666666666,
              "#ed7953"
             ],
             [
              0.7777777777777778,
              "#fb9f3a"
             ],
             [
              0.8888888888888888,
              "#fdca26"
             ],
             [
              1,
              "#f0f921"
             ]
            ],
            "type": "contour"
           }
          ],
          "contourcarpet": [
           {
            "colorbar": {
             "outlinewidth": 0,
             "ticks": ""
            },
            "type": "contourcarpet"
           }
          ],
          "heatmap": [
           {
            "colorbar": {
             "outlinewidth": 0,
             "ticks": ""
            },
            "colorscale": [
             [
              0,
              "#0d0887"
             ],
             [
              0.1111111111111111,
              "#46039f"
             ],
             [
              0.2222222222222222,
              "#7201a8"
             ],
             [
              0.3333333333333333,
              "#9c179e"
             ],
             [
              0.4444444444444444,
              "#bd3786"
             ],
             [
              0.5555555555555556,
              "#d8576b"
             ],
             [
              0.6666666666666666,
              "#ed7953"
             ],
             [
              0.7777777777777778,
              "#fb9f3a"
             ],
             [
              0.8888888888888888,
              "#fdca26"
             ],
             [
              1,
              "#f0f921"
             ]
            ],
            "type": "heatmap"
           }
          ],
          "histogram": [
           {
            "marker": {
             "pattern": {
              "fillmode": "overlay",
              "size": 10,
              "solidity": 0.2
             }
            },
            "type": "histogram"
           }
          ],
          "histogram2d": [
           {
            "colorbar": {
             "outlinewidth": 0,
             "ticks": ""
            },
            "colorscale": [
             [
              0,
              "#0d0887"
             ],
             [
              0.1111111111111111,
              "#46039f"
             ],
             [
              0.2222222222222222,
              "#7201a8"
             ],
             [
              0.3333333333333333,
              "#9c179e"
             ],
             [
              0.4444444444444444,
              "#bd3786"
             ],
             [
              0.5555555555555556,
              "#d8576b"
             ],
             [
              0.6666666666666666,
              "#ed7953"
             ],
             [
              0.7777777777777778,
              "#fb9f3a"
             ],
             [
              0.8888888888888888,
              "#fdca26"
             ],
             [
              1,
              "#f0f921"
             ]
            ],
            "type": "histogram2d"
           }
          ],
          "histogram2dcontour": [
           {
            "colorbar": {
             "outlinewidth": 0,
             "ticks": ""
            },
            "colorscale": [
             [
              0,
              "#0d0887"
             ],
             [
              0.1111111111111111,
              "#46039f"
             ],
             [
              0.2222222222222222,
              "#7201a8"
             ],
             [
              0.3333333333333333,
              "#9c179e"
             ],
             [
              0.4444444444444444,
              "#bd3786"
             ],
             [
              0.5555555555555556,
              "#d8576b"
             ],
             [
              0.6666666666666666,
              "#ed7953"
             ],
             [
              0.7777777777777778,
              "#fb9f3a"
             ],
             [
              0.8888888888888888,
              "#fdca26"
             ],
             [
              1,
              "#f0f921"
             ]
            ],
            "type": "histogram2dcontour"
           }
          ],
          "mesh3d": [
           {
            "colorbar": {
             "outlinewidth": 0,
             "ticks": ""
            },
            "type": "mesh3d"
           }
          ],
          "parcoords": [
           {
            "line": {
             "colorbar": {
              "outlinewidth": 0,
              "ticks": ""
             }
            },
            "type": "parcoords"
           }
          ],
          "pie": [
           {
            "automargin": true,
            "type": "pie"
           }
          ],
          "scatter": [
           {
            "fillpattern": {
             "fillmode": "overlay",
             "size": 10,
             "solidity": 0.2
            },
            "type": "scatter"
           }
          ],
          "scatter3d": [
           {
            "line": {
             "colorbar": {
              "outlinewidth": 0,
              "ticks": ""
             }
            },
            "marker": {
             "colorbar": {
              "outlinewidth": 0,
              "ticks": ""
             }
            },
            "type": "scatter3d"
           }
          ],
          "scattercarpet": [
           {
            "marker": {
             "colorbar": {
              "outlinewidth": 0,
              "ticks": ""
             }
            },
            "type": "scattercarpet"
           }
          ],
          "scattergeo": [
           {
            "marker": {
             "colorbar": {
              "outlinewidth": 0,
              "ticks": ""
             }
            },
            "type": "scattergeo"
           }
          ],
          "scattergl": [
           {
            "marker": {
             "colorbar": {
              "outlinewidth": 0,
              "ticks": ""
             }
            },
            "type": "scattergl"
           }
          ],
          "scattermap": [
           {
            "marker": {
             "colorbar": {
              "outlinewidth": 0,
              "ticks": ""
             }
            },
            "type": "scattermap"
           }
          ],
          "scattermapbox": [
           {
            "marker": {
             "colorbar": {
              "outlinewidth": 0,
              "ticks": ""
             }
            },
            "type": "scattermapbox"
           }
          ],
          "scatterpolar": [
           {
            "marker": {
             "colorbar": {
              "outlinewidth": 0,
              "ticks": ""
             }
            },
            "type": "scatterpolar"
           }
          ],
          "scatterpolargl": [
           {
            "marker": {
             "colorbar": {
              "outlinewidth": 0,
              "ticks": ""
             }
            },
            "type": "scatterpolargl"
           }
          ],
          "scatterternary": [
           {
            "marker": {
             "colorbar": {
              "outlinewidth": 0,
              "ticks": ""
             }
            },
            "type": "scatterternary"
           }
          ],
          "surface": [
           {
            "colorbar": {
             "outlinewidth": 0,
             "ticks": ""
            },
            "colorscale": [
             [
              0,
              "#0d0887"
             ],
             [
              0.1111111111111111,
              "#46039f"
             ],
             [
              0.2222222222222222,
              "#7201a8"
             ],
             [
              0.3333333333333333,
              "#9c179e"
             ],
             [
              0.4444444444444444,
              "#bd3786"
             ],
             [
              0.5555555555555556,
              "#d8576b"
             ],
             [
              0.6666666666666666,
              "#ed7953"
             ],
             [
              0.7777777777777778,
              "#fb9f3a"
             ],
             [
              0.8888888888888888,
              "#fdca26"
             ],
             [
              1,
              "#f0f921"
             ]
            ],
            "type": "surface"
           }
          ],
          "table": [
           {
            "cells": {
             "fill": {
              "color": "#EBF0F8"
             },
             "line": {
              "color": "white"
             }
            },
            "header": {
             "fill": {
              "color": "#C8D4E3"
             },
             "line": {
              "color": "white"
             }
            },
            "type": "table"
           }
          ]
         },
         "layout": {
          "annotationdefaults": {
           "arrowcolor": "#2a3f5f",
           "arrowhead": 0,
           "arrowwidth": 1
          },
          "autotypenumbers": "strict",
          "coloraxis": {
           "colorbar": {
            "outlinewidth": 0,
            "ticks": ""
           }
          },
          "colorscale": {
           "diverging": [
            [
             0,
             "#8e0152"
            ],
            [
             0.1,
             "#c51b7d"
            ],
            [
             0.2,
             "#de77ae"
            ],
            [
             0.3,
             "#f1b6da"
            ],
            [
             0.4,
             "#fde0ef"
            ],
            [
             0.5,
             "#f7f7f7"
            ],
            [
             0.6,
             "#e6f5d0"
            ],
            [
             0.7,
             "#b8e186"
            ],
            [
             0.8,
             "#7fbc41"
            ],
            [
             0.9,
             "#4d9221"
            ],
            [
             1,
             "#276419"
            ]
           ],
           "sequential": [
            [
             0,
             "#0d0887"
            ],
            [
             0.1111111111111111,
             "#46039f"
            ],
            [
             0.2222222222222222,
             "#7201a8"
            ],
            [
             0.3333333333333333,
             "#9c179e"
            ],
            [
             0.4444444444444444,
             "#bd3786"
            ],
            [
             0.5555555555555556,
             "#d8576b"
            ],
            [
             0.6666666666666666,
             "#ed7953"
            ],
            [
             0.7777777777777778,
             "#fb9f3a"
            ],
            [
             0.8888888888888888,
             "#fdca26"
            ],
            [
             1,
             "#f0f921"
            ]
           ],
           "sequentialminus": [
            [
             0,
             "#0d0887"
            ],
            [
             0.1111111111111111,
             "#46039f"
            ],
            [
             0.2222222222222222,
             "#7201a8"
            ],
            [
             0.3333333333333333,
             "#9c179e"
            ],
            [
             0.4444444444444444,
             "#bd3786"
            ],
            [
             0.5555555555555556,
             "#d8576b"
            ],
            [
             0.6666666666666666,
             "#ed7953"
            ],
            [
             0.7777777777777778,
             "#fb9f3a"
            ],
            [
             0.8888888888888888,
             "#fdca26"
            ],
            [
             1,
             "#f0f921"
            ]
           ]
          },
          "colorway": [
           "#636efa",
           "#EF553B",
           "#00cc96",
           "#ab63fa",
           "#FFA15A",
           "#19d3f3",
           "#FF6692",
           "#B6E880",
           "#FF97FF",
           "#FECB52"
          ],
          "font": {
           "color": "#2a3f5f"
          },
          "geo": {
           "bgcolor": "white",
           "lakecolor": "white",
           "landcolor": "#E5ECF6",
           "showlakes": true,
           "showland": true,
           "subunitcolor": "white"
          },
          "hoverlabel": {
           "align": "left"
          },
          "hovermode": "closest",
          "mapbox": {
           "style": "light"
          },
          "paper_bgcolor": "white",
          "plot_bgcolor": "#E5ECF6",
          "polar": {
           "angularaxis": {
            "gridcolor": "white",
            "linecolor": "white",
            "ticks": ""
           },
           "bgcolor": "#E5ECF6",
           "radialaxis": {
            "gridcolor": "white",
            "linecolor": "white",
            "ticks": ""
           }
          },
          "scene": {
           "xaxis": {
            "backgroundcolor": "#E5ECF6",
            "gridcolor": "white",
            "gridwidth": 2,
            "linecolor": "white",
            "showbackground": true,
            "ticks": "",
            "zerolinecolor": "white"
           },
           "yaxis": {
            "backgroundcolor": "#E5ECF6",
            "gridcolor": "white",
            "gridwidth": 2,
            "linecolor": "white",
            "showbackground": true,
            "ticks": "",
            "zerolinecolor": "white"
           },
           "zaxis": {
            "backgroundcolor": "#E5ECF6",
            "gridcolor": "white",
            "gridwidth": 2,
            "linecolor": "white",
            "showbackground": true,
            "ticks": "",
            "zerolinecolor": "white"
           }
          },
          "shapedefaults": {
           "line": {
            "color": "#2a3f5f"
           }
          },
          "ternary": {
           "aaxis": {
            "gridcolor": "white",
            "linecolor": "white",
            "ticks": ""
           },
           "baxis": {
            "gridcolor": "white",
            "linecolor": "white",
            "ticks": ""
           },
           "bgcolor": "#E5ECF6",
           "caxis": {
            "gridcolor": "white",
            "linecolor": "white",
            "ticks": ""
           }
          },
          "title": {
           "x": 0.05
          },
          "xaxis": {
           "automargin": true,
           "gridcolor": "white",
           "linecolor": "white",
           "ticks": "",
           "title": {
            "standoff": 15
           },
           "zerolinecolor": "white",
           "zerolinewidth": 2
          },
          "yaxis": {
           "automargin": true,
           "gridcolor": "white",
           "linecolor": "white",
           "ticks": "",
           "title": {
            "standoff": 15
           },
           "zerolinecolor": "white",
           "zerolinewidth": 2
          }
         }
        },
        "title": {
         "text": "Insider Transactions: Value vs Shares"
        },
        "xaxis": {
         "anchor": "y",
         "domain": [
          0,
          1
         ],
         "title": {
          "text": "shares"
         }
        },
        "yaxis": {
         "anchor": "x",
         "domain": [
          0,
          1
         ],
         "title": {
          "text": "transaction_value"
         }
        }
       }
      }
     },
     "metadata": {},
     "output_type": "display_data"
    },
    {
     "data": {
      "application/vnd.plotly.v1+json": {
       "config": {
        "plotlyServerURL": "https://plot.ly"
       },
       "data": [
        {
         "customdata": [
          [
           4486,
           208.1933,
           "S"
          ],
          [
           4570,
           206,
           "S"
          ],
          [
           7319,
           202.14,
           "F"
          ],
          [
           2887,
           202.14,
           "F"
          ]
         ],
         "hovertemplate": "company_ticker=AAPL<br>filing_date=%{x}<br>insider_name=%{y}<br>transaction_value=%{marker.size}<br>shares=%{customdata[0]}<br>price_per_share=%{customdata[1]}<br>transaction_code=%{customdata[2]}<extra></extra>",
         "legendgroup": "AAPL",
         "marker": {
          "color": "#636efa",
          "size": {
           "bdata": "UiegSYaALEEAAAAA2LosQY/C9agmkzZBwvUoXDTPIUE=",
           "dtype": "f8"
          },
          "sizemode": "area",
          "sizeref": 61940.361043,
          "symbol": "circle"
         },
         "mode": "markers",
         "name": "AAPL",
         "orientation": "v",
         "showlegend": true,
         "type": "scatter",
         "x": [
          "2025-05-12T00:00:00.000000000",
          "2025-04-23T00:00:00.000000000",
          "2025-04-15T00:00:00.000000000",
          "2025-04-15T00:00:00.000000000"
         ],
         "xaxis": "x",
         "y": [
          "Chris Kondo",
          "Kevan Parekh",
          "Kevan Parekh",
          "Chris Kondo"
         ],
         "yaxis": "y"
        },
        {
         "customdata": [
          [
           3000,
           463,
           "S"
          ],
          [
           1000,
           460.008,
           "S"
          ],
          [
           158.723,
           460.36,
           "F"
          ],
          [
           431.209,
           460.36,
           "F"
          ],
          [
           453.934,
           460.36,
           "F"
          ],
          [
           21500,
           453.7745,
           "S"
          ],
          [
           9298,
           457.97,
           "S"
          ],
          [
           6702,
           458.462,
           "S"
          ],
          [
           13242.774,
           452.0115,
           "S"
          ],
          [
           77.894,
           452.94,
           "F"
          ],
          [
           18212,
           435.3053,
           "S"
          ],
          [
           56788,
           436.2919,
           "S"
          ],
          [
           6000,
           433.17,
           "S"
          ],
          [
           27.944,
           387.81,
           "F"
          ]
         ],
         "hovertemplate": "company_ticker=MSFT<br>filing_date=%{x}<br>insider_name=%{y}<br>transaction_value=%{marker.size}<br>shares=%{customdata[0]}<br>price_per_share=%{customdata[1]}<br>transaction_code=%{customdata[2]}<extra></extra>",
         "legendgroup": "MSFT",
         "marker": {
          "color": "#EF553B",
          "size": {
           "bdata": "AAAAAMgxNUEAAAAAoBMcQUBSRIbb1vFAQdR9AHs7CEEG9S1zaIIJQQAAAPi+m2JBPgrXQ2c+UEH+1HgpMnFHQVMj9IiX1VZBbcoV3ik64UD5D+kH+T1eQejZrAbdoHdBAAAAADbUQ0Hpmsk3eyrFQA==",
           "dtype": "f8"
          },
          "sizemode": "area",
          "sizeref": 61940.361043,
          "symbol": "circle"
         },
         "mode": "markers",
         "name": "MSFT",
         "orientation": "v",
         "showlegend": true,
         "type": "scatter",
         "x": [
          "2025-06-03T00:00:00.000000000",
          "2025-05-30T00:00:00.000000000",
          "2025-05-30T00:00:00.000000000",
          "2025-06-02T00:00:00.000000000",
          "2025-06-02T00:00:00.000000000",
          "2025-05-21T00:00:00.000000000",
          "2025-05-19T00:00:00.000000000",
          "2025-05-19T00:00:00.000000000",
          "2025-05-15T00:00:00.000000000",
          "2025-05-15T00:00:00.000000000",
          "2025-05-02T00:00:00.000000000",
          "2025-05-02T00:00:00.000000000",
          "2025-05-02T00:00:00.000000000",
          "2025-04-15T00:00:00.000000000"
         ],
         "xaxis": "x",
         "y": [
          "Takeshi Numoto",
          "Takeshi Numoto",
          "Takeshi Numoto",
          "Alice L. Jolla",
          "Amy Coleman",
          "Kathleen T Hogan",
          "Judson Althoff",
          "Judson Althoff",
          "Amy Coleman",
          "Amy Coleman",
          "Bradford L Smith",
          "Bradford L Smith",
          "Bradford L Smith",
          "Amy Coleman"
         ],
         "yaxis": "y"
        },
        {
         "customdata": [
          [
           19550,
           168.421,
           "S"
          ],
          [
           12950,
           169.1586,
           "S"
          ]
         ],
         "hovertemplate": "company_ticker=GOOGL<br>filing_date=%{x}<br>insider_name=%{y}<br>transaction_value=%{marker.size}<br>shares=%{customdata[0]}<br>price_per_share=%{customdata[1]}<br>transaction_code=%{customdata[2]}<extra></extra>",
         "legendgroup": "GOOGL",
         "marker": {
          "color": "#00cc96",
          "size": {
           "bdata": "ZmZmRuseSUH2KFzvhbZAQQ==",
           "dtype": "f8"
          },
          "sizemode": "area",
          "sizeref": 61940.361043,
          "symbol": "circle"
         },
         "mode": "markers",
         "name": "GOOGL",
         "orientation": "v",
         "showlegend": true,
         "type": "scatter",
         "x": [
          "2025-06-04T00:00:00.000000000",
          "2025-06-04T00:00:00.000000000"
         ],
         "xaxis": "x",
         "y": [
          "Sundar Pichai",
          "Sundar Pichai"
         ],
         "yaxis": "y"
        }
       ],
       "layout": {
        "legend": {
         "itemsizing": "constant",
         "title": {
          "text": "company_ticker"
         },
         "tracegroupgap": 0
        },
        "template": {
         "data": {
          "bar": [
           {
            "error_x": {
             "color": "#2a3f5f"
            },
            "error_y": {
             "color": "#2a3f5f"
            },
            "marker": {
             "line": {
              "color": "#E5ECF6",
              "width": 0.5
             },
             "pattern": {
              "fillmode": "overlay",
              "size": 10,
              "solidity": 0.2
             }
            },
            "type": "bar"
           }
          ],
          "barpolar": [
           {
            "marker": {
             "line": {
              "color": "#E5ECF6",
              "width": 0.5
             },
             "pattern": {
              "fillmode": "overlay",
              "size": 10,
              "solidity": 0.2
             }
            },
            "type": "barpolar"
           }
          ],
          "carpet": [
           {
            "aaxis": {
             "endlinecolor": "#2a3f5f",
             "gridcolor": "white",
             "linecolor": "white",
             "minorgridcolor": "white",
             "startlinecolor": "#2a3f5f"
            },
            "baxis": {
             "endlinecolor": "#2a3f5f",
             "gridcolor": "white",
             "linecolor": "white",
             "minorgridcolor": "white",
             "startlinecolor": "#2a3f5f"
            },
            "type": "carpet"
           }
          ],
          "choropleth": [
           {
            "colorbar": {
             "outlinewidth": 0,
             "ticks": ""
            },
            "type": "choropleth"
           }
          ],
          "contour": [
           {
            "colorbar": {
             "outlinewidth": 0,
             "ticks": ""
            },
            "colorscale": [
             [
              0,
              "#0d0887"
             ],
             [
              0.1111111111111111,
              "#46039f"
             ],
             [
              0.2222222222222222,
              "#7201a8"
             ],
             [
              0.3333333333333333,
              "#9c179e"
             ],
             [
              0.4444444444444444,
              "#bd3786"
             ],
             [
              0.5555555555555556,
              "#d8576b"
             ],
             [
              0.6666666666666666,
              "#ed7953"
             ],
             [
              0.7777777777777778,
              "#fb9f3a"
             ],
             [
              0.8888888888888888,
              "#fdca26"
             ],
             [
              1,
              "#f0f921"
             ]
            ],
            "type": "contour"
           }
          ],
          "contourcarpet": [
           {
            "colorbar": {
             "outlinewidth": 0,
             "ticks": ""
            },
            "type": "contourcarpet"
           }
          ],
          "heatmap": [
           {
            "colorbar": {
             "outlinewidth": 0,
             "ticks": ""
            },
            "colorscale": [
             [
              0,
              "#0d0887"
             ],
             [
              0.1111111111111111,
              "#46039f"
             ],
             [
              0.2222222222222222,
              "#7201a8"
             ],
             [
              0.3333333333333333,
              "#9c179e"
             ],
             [
              0.4444444444444444,
              "#bd3786"
             ],
             [
              0.5555555555555556,
              "#d8576b"
             ],
             [
              0.6666666666666666,
              "#ed7953"
             ],
             [
              0.7777777777777778,
              "#fb9f3a"
             ],
             [
              0.8888888888888888,
              "#fdca26"
             ],
             [
              1,
              "#f0f921"
             ]
            ],
            "type": "heatmap"
           }
          ],
          "histogram": [
           {
            "marker": {
             "pattern": {
              "fillmode": "overlay",
              "size": 10,
              "solidity": 0.2
             }
            },
            "type": "histogram"
           }
          ],
          "histogram2d": [
           {
            "colorbar": {
             "outlinewidth": 0,
             "ticks": ""
            },
            "colorscale": [
             [
              0,
              "#0d0887"
             ],
             [
              0.1111111111111111,
              "#46039f"
             ],
             [
              0.2222222222222222,
              "#7201a8"
             ],
             [
              0.3333333333333333,
              "#9c179e"
             ],
             [
              0.4444444444444444,
              "#bd3786"
             ],
             [
              0.5555555555555556,
              "#d8576b"
             ],
             [
              0.6666666666666666,
              "#ed7953"
             ],
             [
              0.7777777777777778,
              "#fb9f3a"
             ],
             [
              0.8888888888888888,
              "#fdca26"
             ],
             [
              1,
              "#f0f921"
             ]
            ],
            "type": "histogram2d"
           }
          ],
          "histogram2dcontour": [
           {
            "colorbar": {
             "outlinewidth": 0,
             "ticks": ""
            },
            "colorscale": [
             [
              0,
              "#0d0887"
             ],
             [
              0.1111111111111111,
              "#46039f"
             ],
             [
              0.2222222222222222,
              "#7201a8"
             ],
             [
              0.3333333333333333,
              "#9c179e"
             ],
             [
              0.4444444444444444,
              "#bd3786"
             ],
             [
              0.5555555555555556,
              "#d8576b"
             ],
             [
              0.6666666666666666,
              "#ed7953"
             ],
             [
              0.7777777777777778,
              "#fb9f3a"
             ],
             [
              0.8888888888888888,
              "#fdca26"
             ],
             [
              1,
              "#f0f921"
             ]
            ],
            "type": "histogram2dcontour"
           }
          ],
          "mesh3d": [
           {
            "colorbar": {
             "outlinewidth": 0,
             "ticks": ""
            },
            "type": "mesh3d"
           }
          ],
          "parcoords": [
           {
            "line": {
             "colorbar": {
              "outlinewidth": 0,
              "ticks": ""
             }
            },
            "type": "parcoords"
           }
          ],
          "pie": [
           {
            "automargin": true,
            "type": "pie"
           }
          ],
          "scatter": [
           {
            "fillpattern": {
             "fillmode": "overlay",
             "size": 10,
             "solidity": 0.2
            },
            "type": "scatter"
           }
          ],
          "scatter3d": [
           {
            "line": {
             "colorbar": {
              "outlinewidth": 0,
              "ticks": ""
             }
            },
            "marker": {
             "colorbar": {
              "outlinewidth": 0,
              "ticks": ""
             }
            },
            "type": "scatter3d"
           }
          ],
          "scattercarpet": [
           {
            "marker": {
             "colorbar": {
              "outlinewidth": 0,
              "ticks": ""
             }
            },
            "type": "scattercarpet"
           }
          ],
          "scattergeo": [
           {
            "marker": {
             "colorbar": {
              "outlinewidth": 0,
              "ticks": ""
             }
            },
            "type": "scattergeo"
           }
          ],
          "scattergl": [
           {
            "marker": {
             "colorbar": {
              "outlinewidth": 0,
              "ticks": ""
             }
            },
            "type": "scattergl"
           }
          ],
          "scattermap": [
           {
            "marker": {
             "colorbar": {
              "outlinewidth": 0,
              "ticks": ""
             }
            },
            "type": "scattermap"
           }
          ],
          "scattermapbox": [
           {
            "marker": {
             "colorbar": {
              "outlinewidth": 0,
              "ticks": ""
             }
            },
            "type": "scattermapbox"
           }
          ],
          "scatterpolar": [
           {
            "marker": {
             "colorbar": {
              "outlinewidth": 0,
              "ticks": ""
             }
            },
            "type": "scatterpolar"
           }
          ],
          "scatterpolargl": [
           {
            "marker": {
             "colorbar": {
              "outlinewidth": 0,
              "ticks": ""
             }
            },
            "type": "scatterpolargl"
           }
          ],
          "scatterternary": [
           {
            "marker": {
             "colorbar": {
              "outlinewidth": 0,
              "ticks": ""
             }
            },
            "type": "scatterternary"
           }
          ],
          "surface": [
           {
            "colorbar": {
             "outlinewidth": 0,
             "ticks": ""
            },
            "colorscale": [
             [
              0,
              "#0d0887"
             ],
             [
              0.1111111111111111,
              "#46039f"
             ],
             [
              0.2222222222222222,
              "#7201a8"
             ],
             [
              0.3333333333333333,
              "#9c179e"
             ],
             [
              0.4444444444444444,
              "#bd3786"
             ],
             [
              0.5555555555555556,
              "#d8576b"
             ],
             [
              0.6666666666666666,
              "#ed7953"
             ],
             [
              0.7777777777777778,
              "#fb9f3a"
             ],
             [
              0.8888888888888888,
              "#fdca26"
             ],
             [
              1,
              "#f0f921"
             ]
            ],
            "type": "surface"
           }
          ],
          "table": [
           {
            "cells": {
             "fill": {
              "color": "#EBF0F8"
             },
             "line": {
              "color": "white"
             }
            },
            "header": {
             "fill": {
              "color": "#C8D4E3"
             },
             "line": {
              "color": "white"
             }
            },
            "type": "table"
           }
          ]
         },
         "layout": {
          "annotationdefaults": {
           "arrowcolor": "#2a3f5f",
           "arrowhead": 0,
           "arrowwidth": 1
          },
          "autotypenumbers": "strict",
          "coloraxis": {
           "colorbar": {
            "outlinewidth": 0,
            "ticks": ""
           }
          },
          "colorscale": {
           "diverging": [
            [
             0,
             "#8e0152"
            ],
            [
             0.1,
             "#c51b7d"
            ],
            [
             0.2,
             "#de77ae"
            ],
            [
             0.3,
             "#f1b6da"
            ],
            [
             0.4,
             "#fde0ef"
            ],
            [
             0.5,
             "#f7f7f7"
            ],
            [
             0.6,
             "#e6f5d0"
            ],
            [
             0.7,
             "#b8e186"
            ],
            [
             0.8,
             "#7fbc41"
            ],
            [
             0.9,
             "#4d9221"
            ],
            [
             1,
             "#276419"
            ]
           ],
           "sequential": [
            [
             0,
             "#0d0887"
            ],
            [
             0.1111111111111111,
             "#46039f"
            ],
            [
             0.2222222222222222,
             "#7201a8"
            ],
            [
             0.3333333333333333,
             "#9c179e"
            ],
            [
             0.4444444444444444,
             "#bd3786"
            ],
            [
             0.5555555555555556,
             "#d8576b"
            ],
            [
             0.6666666666666666,
             "#ed7953"
            ],
            [
             0.7777777777777778,
             "#fb9f3a"
            ],
            [
             0.8888888888888888,
             "#fdca26"
            ],
            [
             1,
             "#f0f921"
            ]
           ],
           "sequentialminus": [
            [
             0,
             "#0d0887"
            ],
            [
             0.1111111111111111,
             "#46039f"
            ],
            [
             0.2222222222222222,
             "#7201a8"
            ],
            [
             0.3333333333333333,
             "#9c179e"
            ],
            [
             0.4444444444444444,
             "#bd3786"
            ],
            [
             0.5555555555555556,
             "#d8576b"
            ],
            [
             0.6666666666666666,
             "#ed7953"
            ],
            [
             0.7777777777777778,
             "#fb9f3a"
            ],
            [
             0.8888888888888888,
             "#fdca26"
            ],
            [
             1,
             "#f0f921"
            ]
           ]
          },
          "colorway": [
           "#636efa",
           "#EF553B",
           "#00cc96",
           "#ab63fa",
           "#FFA15A",
           "#19d3f3",
           "#FF6692",
           "#B6E880",
           "#FF97FF",
           "#FECB52"
          ],
          "font": {
           "color": "#2a3f5f"
          },
          "geo": {
           "bgcolor": "white",
           "lakecolor": "white",
           "landcolor": "#E5ECF6",
           "showlakes": true,
           "showland": true,
           "subunitcolor": "white"
          },
          "hoverlabel": {
           "align": "left"
          },
          "hovermode": "closest",
          "mapbox": {
           "style": "light"
          },
          "paper_bgcolor": "white",
          "plot_bgcolor": "#E5ECF6",
          "polar": {
           "angularaxis": {
            "gridcolor": "white",
            "linecolor": "white",
            "ticks": ""
           },
           "bgcolor": "#E5ECF6",
           "radialaxis": {
            "gridcolor": "white",
            "linecolor": "white",
            "ticks": ""
           }
          },
          "scene": {
           "xaxis": {
            "backgroundcolor": "#E5ECF6",
            "gridcolor": "white",
            "gridwidth": 2,
            "linecolor": "white",
            "showbackground": true,
            "ticks": "",
            "zerolinecolor": "white"
           },
           "yaxis": {
            "backgroundcolor": "#E5ECF6",
            "gridcolor": "white",
            "gridwidth": 2,
            "linecolor": "white",
            "showbackground": true,
            "ticks": "",
            "zerolinecolor": "white"
           },
           "zaxis": {
            "backgroundcolor": "#E5ECF6",
            "gridcolor": "white",
            "gridwidth": 2,
            "linecolor": "white",
            "showbackground": true,
            "ticks": "",
            "zerolinecolor": "white"
           }
          },
          "shapedefaults": {
           "line": {
            "color": "#2a3f5f"
           }
          },
          "ternary": {
           "aaxis": {
            "gridcolor": "white",
            "linecolor": "white",
            "ticks": ""
           },
           "baxis": {
            "gridcolor": "white",
            "linecolor": "white",
            "ticks": ""
           },
           "bgcolor": "#E5ECF6",
           "caxis": {
            "gridcolor": "white",
            "linecolor": "white",
            "ticks": ""
           }
          },
          "title": {
           "x": 0.05
          },
          "xaxis": {
           "automargin": true,
           "gridcolor": "white",
           "linecolor": "white",
           "ticks": "",
           "title": {
            "standoff": 15
           },
           "zerolinecolor": "white",
           "zerolinewidth": 2
          },
          "yaxis": {
           "automargin": true,
           "gridcolor": "white",
           "linecolor": "white",
           "ticks": "",
           "title": {
            "standoff": 15
           },
           "zerolinecolor": "white",
           "zerolinewidth": 2
          }
         }
        },
        "title": {
         "text": "Recent Insider Trading Timeline"
        },
        "xaxis": {
         "anchor": "y",
         "domain": [
          0,
          1
         ],
         "title": {
          "text": "Filing Date"
         }
        },
        "yaxis": {
         "anchor": "x",
         "domain": [
          0,
          1
         ],
         "title": {
          "text": "Insider Name"
         }
        }
       }
      }
     },
     "metadata": {},
     "output_type": "display_data"
    },
    {
     "name": "stdout",
     "output_type": "stream",
     "text": [
      "✅ Visualization tests completed successfully\n"
     ]
    }
   ],
   "source": [
    "print(\"=== Data Visualization Tests ===\")\n",
    "\n",
    "try:\n",
    "    # Get data for visualization\n",
    "    viz_data = monitor.get_insider_filings(days_back=60)\n",
    "    \n",
    "    if not viz_data.empty:\n",
    "        print(f\"📊 Visualizing {len(viz_data)} transactions...\")\n",
    "        \n",
    "        # 1. Transaction value distribution\n",
    "        plt.figure(figsize=(12, 8))\n",
    "        \n",
    "        # Subplot 1: Transaction values\n",
    "        plt.subplot(2, 2, 1)\n",
    "        viz_data['transaction_value'].hist(bins=30, alpha=0.7)\n",
    "        plt.title('Transaction Value Distribution')\n",
    "        plt.xlabel('Transaction Value ($)')\n",
    "        plt.ylabel('Frequency')\n",
    "        \n",
    "        # Subplot 2: Company activity\n",
    "        plt.subplot(2, 2, 2)\n",
    "        company_counts = viz_data['company_ticker'].value_counts().head(10)\n",
    "        company_counts.plot(kind='bar')\n",
    "        plt.title('Top 10 Most Active Companies')\n",
    "        plt.xlabel('Company')\n",
    "        plt.ylabel('Number of Transactions')\n",
    "        plt.xticks(rotation=45)\n",
    "        \n",
    "        # Subplot 3: Transaction types\n",
    "        plt.subplot(2, 2, 3)\n",
    "        viz_data['transaction_code'].value_counts().plot(kind='pie', autopct='%1.1f%%')\n",
    "        plt.title('Transaction Types')\n",
    "        \n",
    "        # Subplot 4: Filing timeline\n",
    "        plt.subplot(2, 2, 4)\n",
    "        viz_data['filing_date'] = pd.to_datetime(viz_data['filing_date'])\n",
    "        daily_counts = viz_data.groupby(viz_data['filing_date'].dt.date).size()\n",
    "        daily_counts.plot(kind='line')\n",
    "        plt.title('Daily Filing Activity')\n",
    "        plt.xlabel('Date')\n",
    "        plt.ylabel('Number of Filings')\n",
    "        \n",
    "        plt.tight_layout()\n",
    "        plt.show()\n",
    "        \n",
    "        # Interactive plotly visualization\n",
    "        print(\"\\n📈 Creating interactive visualizations...\")\n",
    "        \n",
    "        # Prepare data for visualization (handle NaN values)\n",
    "        viz_data_clean = viz_data.copy()\n",
    "        \n",
    "        # Fill NaN price_per_share with a default size value for visualization\n",
    "        viz_data_clean['price_per_share_viz'] = viz_data_clean['price_per_share'].fillna(10)\n",
    "        \n",
    "        # Filter out rows with NaN transaction_value or shares for better visualization\n",
    "        viz_data_clean = viz_data_clean.dropna(subset=['transaction_value', 'shares'])\n",
    "        \n",
    "        if len(viz_data_clean) > 0:\n",
    "            # Transaction value vs shares scatter plot\n",
    "            fig = px.scatter(viz_data_clean, \n",
    "                            x='shares', \n",
    "                            y='transaction_value',\n",
    "                            color='company_ticker',\n",
    "                            size='price_per_share_viz',\n",
    "                            hover_data=['insider_name', 'insider_title', 'transaction_code'],\n",
    "                            title='Insider Transactions: Value vs Shares',\n",
    "                            labels={'price_per_share_viz': 'Price per Share'})\n",
    "            fig.show()\n",
    "            \n",
    "            # Create a simpler timeline visualization (px.timeline can be problematic)\n",
    "            fig2 = px.scatter(viz_data_clean.head(20),\n",
    "                             x='filing_date',\n",
    "                             y='insider_name', \n",
    "                             color='company_ticker',\n",
    "                             size='transaction_value',\n",
    "                             hover_data=['shares', 'price_per_share', 'transaction_code'],\n",
    "                             title='Recent Insider Trading Timeline')\n",
    "            fig2.update_layout(xaxis_title='Filing Date', yaxis_title='Insider Name')\n",
    "            fig2.show()\n",
    "        else:\n",
    "            print(\"⚠️ No clean data available for interactive visualizations\")\n",
    "        \n",
    "        print(\"✅ Visualization tests completed successfully\")\n",
    "    else:\n",
    "        print(\"⚠️ No data available for visualization\")\n",
    "        \n",
    "except Exception as e:\n",
    "    print(f\"❌ Visualization tests failed: {str(e)}\")\n",
    "    import traceback\n",
    "    traceback.print_exc()"
   ]
  },
  {
   "cell_type": "code",
   "execution_count": 71,
   "id": "754b9dc6",
   "metadata": {},
   "outputs": [
    {
     "name": "stdout",
     "output_type": "stream",
     "text": [
      "=== Data Quality Check for Visualization ===\n",
      "📊 Data Quality Analysis for 258 transactions:\n",
      "   transaction_value: 65 missing (25.2%)\n",
      "   shares: 0 missing (0.0%)\n",
      "   price_per_share: 9 missing (3.5%)\n",
      "   filing_date: 0 missing (0.0%)\n",
      "   insider_name: 0 missing (0.0%)\n",
      "\n",
      "📋 Data Types:\n",
      "   transaction_value: float64\n",
      "   shares: float64\n",
      "   price_per_share: float64\n",
      "   filing_date: datetime64[ns]\n",
      "   insider_name: object\n",
      "\n",
      "📈 Value Ranges:\n",
      "   transaction_value: $0.00 to $286,682,512.50 (avg: $3,842,919.87)\n",
      "   shares: $0.00 to $360,373,228.00 (avg: $1,783,794.55)\n",
      "   price_per_share: $0.00 to $463.00 (avg: $169.60)\n",
      "✅ Data quality check completed\n"
     ]
    }
   ],
   "source": [
    "print(\"=== Data Quality Check for Visualization ===\")\n",
    "\n",
    "try:\n",
    "    # Check data quality before visualization\n",
    "    if not viz_data.empty:\n",
    "        print(f\"📊 Data Quality Analysis for {len(viz_data)} transactions:\")\n",
    "        \n",
    "        # Check for missing values in key columns\n",
    "        key_columns = ['transaction_value', 'shares', 'price_per_share', 'filing_date', 'insider_name']\n",
    "        missing_data = {}\n",
    "        \n",
    "        for col in key_columns:\n",
    "            if col in viz_data.columns:\n",
    "                missing_count = viz_data[col].isna().sum()\n",
    "                missing_pct = (missing_count / len(viz_data)) * 100\n",
    "                missing_data[col] = {'count': missing_count, 'percentage': missing_pct}\n",
    "                print(f\"   {col}: {missing_count} missing ({missing_pct:.1f}%)\")\n",
    "        \n",
    "        # Show data types\n",
    "        print(f\"\\n📋 Data Types:\")\n",
    "        for col in key_columns:\n",
    "            if col in viz_data.columns:\n",
    "                dtype = viz_data[col].dtype\n",
    "                print(f\"   {col}: {dtype}\")\n",
    "        \n",
    "        # Show value ranges for numeric columns\n",
    "        numeric_cols = ['transaction_value', 'shares', 'price_per_share']\n",
    "        print(f\"\\n📈 Value Ranges:\")\n",
    "        for col in numeric_cols:\n",
    "            if col in viz_data.columns and viz_data[col].notna().sum() > 0:\n",
    "                min_val = viz_data[col].min()\n",
    "                max_val = viz_data[col].max()\n",
    "                mean_val = viz_data[col].mean()\n",
    "                print(f\"   {col}: ${min_val:,.2f} to ${max_val:,.2f} (avg: ${mean_val:,.2f})\")\n",
    "        \n",
    "        print(\"✅ Data quality check completed\")\n",
    "    else:\n",
    "        print(\"⚠️ No data available for quality check\")\n",
    "        \n",
    "except Exception as e:\n",
    "    print(f\"❌ Data quality check failed: {str(e)}\")"
   ]
  },
  {
   "cell_type": "code",
   "execution_count": 69,
   "id": "dc157938",
   "metadata": {},
   "outputs": [
    {
     "name": "stdout",
     "output_type": "stream",
     "text": [
      "=== Final Test Summary ===\n",
      "📅 Test Completed: 2025-06-08 23:24:48\n",
      "🧪 Test Configuration: ['AAPL', 'MSFT', 'GOOGL', 'AMZN', 'TSLA'] over 30 days\n",
      "\n",
      "📊 Overall Results:\n",
      "   Companies analyzed: 5\n",
      "   Total transactions: 165\n",
      "   Total value: $289,430,175.40\n",
      "   Cache entries: 10\n",
      "\n",
      "✅ ALL TESTS COMPLETED\n",
      "\n",
      "🎯 Ready for Phase 1 Approval\n",
      "\n",
      "📋 Next Steps:\n",
      "   1. Review test results\n",
      "   2. Get approval for InsiderTradingMonitor class\n",
      "   3. Proceed to next class implementation\n",
      "   4. Continue with Financial Data Aggregator class\n",
      "\n",
      "📊 Overall Results:\n",
      "   Companies analyzed: 5\n",
      "   Total transactions: 165\n",
      "   Total value: $289,430,175.40\n",
      "   Cache entries: 10\n",
      "\n",
      "✅ ALL TESTS COMPLETED\n",
      "\n",
      "🎯 Ready for Phase 1 Approval\n",
      "\n",
      "📋 Next Steps:\n",
      "   1. Review test results\n",
      "   2. Get approval for InsiderTradingMonitor class\n",
      "   3. Proceed to next class implementation\n",
      "   4. Continue with Financial Data Aggregator class\n"
     ]
    }
   ],
   "source": [
    "print(\"=== Final Test Summary ===\")\n",
    "print(f\"📅 Test Completed: {datetime.now().strftime('%Y-%m-%d %H:%M:%S')}\")\n",
    "print(f\"🧪 Test Configuration: {TEST_COMPANIES} over {TEST_DAYS_BACK} days\")\n",
    "\n",
    "# Performance summary\n",
    "final_stats = monitor.get_summary_statistics(days_back=TEST_DAYS_BACK)\n",
    "if 'error' not in final_stats:\n",
    "    print(f\"\\n📊 Overall Results:\")\n",
    "    print(f\"   Companies analyzed: {final_stats['companies_analyzed']}\")\n",
    "    print(f\"   Total transactions: {final_stats['total_transactions']}\")\n",
    "    print(f\"   Total value: ${final_stats['transaction_value']['total']:,.2f}\")\n",
    "    print(f\"   Cache entries: {len(monitor.data_cache)}\")\n",
    "\n",
    "print(\"\\n✅ ALL TESTS COMPLETED\")\n",
    "print(\"\\n🎯 Ready for Phase 1 Approval\")\n",
    "print(\"\\n📋 Next Steps:\")\n",
    "print(\"   1. Review test results\")\n",
    "print(\"   2. Get approval for InsiderTradingMonitor class\")\n",
    "print(\"   3. Proceed to next class implementation\")\n",
    "print(\"   4. Continue with Financial Data Aggregator class\")"
   ]
  },
  {
   "cell_type": "markdown",
   "id": "f16b1498",
   "metadata": {},
   "source": [
    "# 📊 Test Results Analysis\n",
    "\n",
    "Based on the execution results, here's what we've discovered:\n",
    "\n",
    "## ✅ **Successful Data Retrieval**\n",
    "- **AAPL 30-day test**: Successfully retrieved 1 transaction (Chris Kondo, $933,955.14)\n",
    "- **Multi-period tests**: Found increasing data with longer lookback periods\n",
    "  - 7-14 days: 0 transactions  \n",
    "  - 30 days: 1 transaction\n",
    "  - 60 days: 13 transactions\n",
    "  - 90 days: 44 transactions\n",
    "- **Multi-ticker tests**: Successfully retrieved data from AAPL, MSFT, GOOGL\n",
    "\n",
    "## 📋 **Data Structure Validation**\n",
    "- **Actual columns available**: 14 columns including all essential fields\n",
    "- **Data quality**: 100% non-null values for critical fields (filing_date, insider_name, shares)\n",
    "- **Performance**: Fast retrieval (0.09 seconds for basic test)\n",
    "\n",
    "## 🎯 **Key Findings**\n",
    "1. The InsiderTradingMonitor is working correctly and retrieving real data\n",
    "2. Column structure matches SEC filing format (transaction_code vs transaction_type)\n",
    "3. Data validation and error handling are functioning properly\n",
    "4. Performance is excellent for single ticker queries"
   ]
  }
 ],
 "metadata": {
  "kernelspec": {
   "display_name": "Python 3",
   "language": "python",
   "name": "python3"
  },
  "language_info": {
   "codemirror_mode": {
    "name": "ipython",
    "version": 3
   },
   "file_extension": ".py",
   "mimetype": "text/x-python",
   "name": "python",
   "nbconvert_exporter": "python",
   "pygments_lexer": "ipython3",
   "version": "3.12.3"
  }
 },
 "nbformat": 4,
 "nbformat_minor": 5
}
